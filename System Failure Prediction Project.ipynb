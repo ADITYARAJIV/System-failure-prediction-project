{
 "cells": [
  {
   "cell_type": "code",
   "execution_count": 1,
   "metadata": {},
   "outputs": [],
   "source": [
    "import pandas as pd\n",
    "import numpy as np\n",
    "import matplotlib.pyplot as plt\n",
    "import seaborn as sns\n",
    "import warnings\n",
    "from sklearn.metrics import confusion_matrix, classification_report, accuracy_score, roc_curve, roc_auc_score, auc\n",
    "from sklearn.linear_model import LogisticRegression\n",
    "from sklearn.model_selection import train_test_split\n",
    "from sklearn.preprocessing import StandardScaler\n",
    "from sklearn.ensemble import RandomForestClassifier, GradientBoostingClassifier\n",
    "from sklearn.svm import SVC\n",
    "from sklearn.neighbors import KNeighborsClassifier\n",
    "from imblearn.over_sampling import RandomOverSampler"
   ]
  },
  {
   "cell_type": "code",
   "execution_count": 2,
   "metadata": {},
   "outputs": [],
   "source": [
    "sns.set()\n",
    "# %matplotlib inline\n",
    "warnings.filterwarnings('ignore')\n",
    "pd.set_option('display.max_columns', 100)\n",
    "pd.set_option('display.max_rows', 100)"
   ]
  },
  {
   "cell_type": "code",
   "execution_count": 3,
   "metadata": {},
   "outputs": [],
   "source": [
    "data = pd.read_csv('component_failure_prediction.csv')"
   ]
  },
  {
   "cell_type": "code",
   "execution_count": 4,
   "metadata": {},
   "outputs": [
    {
     "data": {
      "text/html": [
       "<div>\n",
       "<style scoped>\n",
       "    .dataframe tbody tr th:only-of-type {\n",
       "        vertical-align: middle;\n",
       "    }\n",
       "\n",
       "    .dataframe tbody tr th {\n",
       "        vertical-align: top;\n",
       "    }\n",
       "\n",
       "    .dataframe thead th {\n",
       "        text-align: right;\n",
       "    }\n",
       "</style>\n",
       "<table border=\"1\" class=\"dataframe\">\n",
       "  <thead>\n",
       "    <tr style=\"text-align: right;\">\n",
       "      <th></th>\n",
       "      <th>UDI</th>\n",
       "      <th>Product ID</th>\n",
       "      <th>Type</th>\n",
       "      <th>Air temperature [K]</th>\n",
       "      <th>Process temperature [K]</th>\n",
       "      <th>Rotational speed [rpm]</th>\n",
       "      <th>Torque [Nm]</th>\n",
       "      <th>Tool wear [min]</th>\n",
       "      <th>Target</th>\n",
       "      <th>Failure Type</th>\n",
       "    </tr>\n",
       "  </thead>\n",
       "  <tbody>\n",
       "    <tr>\n",
       "      <th>0</th>\n",
       "      <td>1</td>\n",
       "      <td>M14860</td>\n",
       "      <td>M</td>\n",
       "      <td>298.1</td>\n",
       "      <td>308.6</td>\n",
       "      <td>1551</td>\n",
       "      <td>42.8</td>\n",
       "      <td>0</td>\n",
       "      <td>0</td>\n",
       "      <td>No Failure</td>\n",
       "    </tr>\n",
       "    <tr>\n",
       "      <th>1</th>\n",
       "      <td>2</td>\n",
       "      <td>L47181</td>\n",
       "      <td>L</td>\n",
       "      <td>298.2</td>\n",
       "      <td>308.7</td>\n",
       "      <td>1408</td>\n",
       "      <td>46.3</td>\n",
       "      <td>3</td>\n",
       "      <td>0</td>\n",
       "      <td>No Failure</td>\n",
       "    </tr>\n",
       "    <tr>\n",
       "      <th>2</th>\n",
       "      <td>3</td>\n",
       "      <td>L47182</td>\n",
       "      <td>L</td>\n",
       "      <td>298.1</td>\n",
       "      <td>308.5</td>\n",
       "      <td>1498</td>\n",
       "      <td>49.4</td>\n",
       "      <td>5</td>\n",
       "      <td>0</td>\n",
       "      <td>No Failure</td>\n",
       "    </tr>\n",
       "    <tr>\n",
       "      <th>3</th>\n",
       "      <td>4</td>\n",
       "      <td>L47183</td>\n",
       "      <td>L</td>\n",
       "      <td>298.2</td>\n",
       "      <td>308.6</td>\n",
       "      <td>1433</td>\n",
       "      <td>39.5</td>\n",
       "      <td>7</td>\n",
       "      <td>0</td>\n",
       "      <td>No Failure</td>\n",
       "    </tr>\n",
       "    <tr>\n",
       "      <th>4</th>\n",
       "      <td>5</td>\n",
       "      <td>L47184</td>\n",
       "      <td>L</td>\n",
       "      <td>298.2</td>\n",
       "      <td>308.7</td>\n",
       "      <td>1408</td>\n",
       "      <td>40.0</td>\n",
       "      <td>9</td>\n",
       "      <td>0</td>\n",
       "      <td>No Failure</td>\n",
       "    </tr>\n",
       "  </tbody>\n",
       "</table>\n",
       "</div>"
      ],
      "text/plain": [
       "   UDI Product ID Type  Air temperature [K]  Process temperature [K]  \\\n",
       "0    1     M14860    M                298.1                    308.6   \n",
       "1    2     L47181    L                298.2                    308.7   \n",
       "2    3     L47182    L                298.1                    308.5   \n",
       "3    4     L47183    L                298.2                    308.6   \n",
       "4    5     L47184    L                298.2                    308.7   \n",
       "\n",
       "   Rotational speed [rpm]  Torque [Nm]  Tool wear [min]  Target Failure Type  \n",
       "0                    1551         42.8                0       0   No Failure  \n",
       "1                    1408         46.3                3       0   No Failure  \n",
       "2                    1498         49.4                5       0   No Failure  \n",
       "3                    1433         39.5                7       0   No Failure  \n",
       "4                    1408         40.0                9       0   No Failure  "
      ]
     },
     "execution_count": 4,
     "metadata": {},
     "output_type": "execute_result"
    }
   ],
   "source": [
    "data.head()"
   ]
  },
  {
   "cell_type": "code",
   "execution_count": 5,
   "metadata": {},
   "outputs": [],
   "source": [
    "data.drop(['UDI', 'Product ID'], axis = 1, inplace = True)"
   ]
  },
  {
   "cell_type": "code",
   "execution_count": 6,
   "metadata": {},
   "outputs": [
    {
     "data": {
      "text/html": [
       "<div>\n",
       "<style scoped>\n",
       "    .dataframe tbody tr th:only-of-type {\n",
       "        vertical-align: middle;\n",
       "    }\n",
       "\n",
       "    .dataframe tbody tr th {\n",
       "        vertical-align: top;\n",
       "    }\n",
       "\n",
       "    .dataframe thead th {\n",
       "        text-align: right;\n",
       "    }\n",
       "</style>\n",
       "<table border=\"1\" class=\"dataframe\">\n",
       "  <thead>\n",
       "    <tr style=\"text-align: right;\">\n",
       "      <th></th>\n",
       "      <th>Type</th>\n",
       "      <th>Air temperature [K]</th>\n",
       "      <th>Process temperature [K]</th>\n",
       "      <th>Rotational speed [rpm]</th>\n",
       "      <th>Torque [Nm]</th>\n",
       "      <th>Tool wear [min]</th>\n",
       "      <th>Target</th>\n",
       "      <th>Failure Type</th>\n",
       "    </tr>\n",
       "  </thead>\n",
       "  <tbody>\n",
       "    <tr>\n",
       "      <th>0</th>\n",
       "      <td>M</td>\n",
       "      <td>298.1</td>\n",
       "      <td>308.6</td>\n",
       "      <td>1551</td>\n",
       "      <td>42.8</td>\n",
       "      <td>0</td>\n",
       "      <td>0</td>\n",
       "      <td>No Failure</td>\n",
       "    </tr>\n",
       "    <tr>\n",
       "      <th>1</th>\n",
       "      <td>L</td>\n",
       "      <td>298.2</td>\n",
       "      <td>308.7</td>\n",
       "      <td>1408</td>\n",
       "      <td>46.3</td>\n",
       "      <td>3</td>\n",
       "      <td>0</td>\n",
       "      <td>No Failure</td>\n",
       "    </tr>\n",
       "    <tr>\n",
       "      <th>2</th>\n",
       "      <td>L</td>\n",
       "      <td>298.1</td>\n",
       "      <td>308.5</td>\n",
       "      <td>1498</td>\n",
       "      <td>49.4</td>\n",
       "      <td>5</td>\n",
       "      <td>0</td>\n",
       "      <td>No Failure</td>\n",
       "    </tr>\n",
       "    <tr>\n",
       "      <th>3</th>\n",
       "      <td>L</td>\n",
       "      <td>298.2</td>\n",
       "      <td>308.6</td>\n",
       "      <td>1433</td>\n",
       "      <td>39.5</td>\n",
       "      <td>7</td>\n",
       "      <td>0</td>\n",
       "      <td>No Failure</td>\n",
       "    </tr>\n",
       "    <tr>\n",
       "      <th>4</th>\n",
       "      <td>L</td>\n",
       "      <td>298.2</td>\n",
       "      <td>308.7</td>\n",
       "      <td>1408</td>\n",
       "      <td>40.0</td>\n",
       "      <td>9</td>\n",
       "      <td>0</td>\n",
       "      <td>No Failure</td>\n",
       "    </tr>\n",
       "  </tbody>\n",
       "</table>\n",
       "</div>"
      ],
      "text/plain": [
       "  Type  Air temperature [K]  Process temperature [K]  Rotational speed [rpm]  \\\n",
       "0    M                298.1                    308.6                    1551   \n",
       "1    L                298.2                    308.7                    1408   \n",
       "2    L                298.1                    308.5                    1498   \n",
       "3    L                298.2                    308.6                    1433   \n",
       "4    L                298.2                    308.7                    1408   \n",
       "\n",
       "   Torque [Nm]  Tool wear [min]  Target Failure Type  \n",
       "0         42.8                0       0   No Failure  \n",
       "1         46.3                3       0   No Failure  \n",
       "2         49.4                5       0   No Failure  \n",
       "3         39.5                7       0   No Failure  \n",
       "4         40.0                9       0   No Failure  "
      ]
     },
     "execution_count": 6,
     "metadata": {},
     "output_type": "execute_result"
    }
   ],
   "source": [
    "data.head()"
   ]
  },
  {
   "cell_type": "code",
   "execution_count": 7,
   "metadata": {},
   "outputs": [
    {
     "name": "stdout",
     "output_type": "stream",
     "text": [
      "<class 'pandas.core.frame.DataFrame'>\n",
      "RangeIndex: 10000 entries, 0 to 9999\n",
      "Data columns (total 8 columns):\n",
      " #   Column                   Non-Null Count  Dtype  \n",
      "---  ------                   --------------  -----  \n",
      " 0   Type                     10000 non-null  object \n",
      " 1   Air temperature [K]      10000 non-null  float64\n",
      " 2   Process temperature [K]  10000 non-null  float64\n",
      " 3   Rotational speed [rpm]   10000 non-null  int64  \n",
      " 4   Torque [Nm]              10000 non-null  float64\n",
      " 5   Tool wear [min]          10000 non-null  int64  \n",
      " 6   Target                   10000 non-null  int64  \n",
      " 7   Failure Type             10000 non-null  object \n",
      "dtypes: float64(3), int64(3), object(2)\n",
      "memory usage: 625.1+ KB\n"
     ]
    }
   ],
   "source": [
    "data.info()"
   ]
  },
  {
   "cell_type": "code",
   "execution_count": 8,
   "metadata": {},
   "outputs": [],
   "source": [
    "data['Rotational speed [rpm]'] = data['Rotational speed [rpm]'].astype('float') "
   ]
  },
  {
   "cell_type": "code",
   "execution_count": 9,
   "metadata": {},
   "outputs": [
    {
     "name": "stdout",
     "output_type": "stream",
     "text": [
      "<class 'pandas.core.frame.DataFrame'>\n",
      "RangeIndex: 10000 entries, 0 to 9999\n",
      "Data columns (total 8 columns):\n",
      " #   Column                   Non-Null Count  Dtype  \n",
      "---  ------                   --------------  -----  \n",
      " 0   Type                     10000 non-null  object \n",
      " 1   Air temperature [K]      10000 non-null  float64\n",
      " 2   Process temperature [K]  10000 non-null  float64\n",
      " 3   Rotational speed [rpm]   10000 non-null  float64\n",
      " 4   Torque [Nm]              10000 non-null  float64\n",
      " 5   Tool wear [min]          10000 non-null  int64  \n",
      " 6   Target                   10000 non-null  int64  \n",
      " 7   Failure Type             10000 non-null  object \n",
      "dtypes: float64(4), int64(2), object(2)\n",
      "memory usage: 625.1+ KB\n"
     ]
    }
   ],
   "source": [
    "data.info()"
   ]
  },
  {
   "cell_type": "code",
   "execution_count": 10,
   "metadata": {},
   "outputs": [
    {
     "data": {
      "text/plain": [
       "0    9661\n",
       "1     339\n",
       "Name: Target, dtype: int64"
      ]
     },
     "execution_count": 10,
     "metadata": {},
     "output_type": "execute_result"
    }
   ],
   "source": [
    "data['Target'].value_counts()"
   ]
  },
  {
   "cell_type": "code",
   "execution_count": 11,
   "metadata": {},
   "outputs": [
    {
     "data": {
      "text/plain": [
       "No Failure                  9652\n",
       "Heat Dissipation Failure     112\n",
       "Power Failure                 95\n",
       "Overstrain Failure            78\n",
       "Tool Wear Failure             45\n",
       "Random Failures               18\n",
       "Name: Failure Type, dtype: int64"
      ]
     },
     "execution_count": 11,
     "metadata": {},
     "output_type": "execute_result"
    }
   ],
   "source": [
    "data['Failure Type'].value_counts()"
   ]
  },
  {
   "cell_type": "code",
   "execution_count": 12,
   "metadata": {},
   "outputs": [
    {
     "data": {
      "text/html": [
       "<div>\n",
       "<style scoped>\n",
       "    .dataframe tbody tr th:only-of-type {\n",
       "        vertical-align: middle;\n",
       "    }\n",
       "\n",
       "    .dataframe tbody tr th {\n",
       "        vertical-align: top;\n",
       "    }\n",
       "\n",
       "    .dataframe thead th {\n",
       "        text-align: right;\n",
       "    }\n",
       "</style>\n",
       "<table border=\"1\" class=\"dataframe\">\n",
       "  <thead>\n",
       "    <tr style=\"text-align: right;\">\n",
       "      <th></th>\n",
       "      <th>Type</th>\n",
       "      <th>Air temperature [K]</th>\n",
       "      <th>Process temperature [K]</th>\n",
       "      <th>Rotational speed [rpm]</th>\n",
       "      <th>Torque [Nm]</th>\n",
       "      <th>Tool wear [min]</th>\n",
       "      <th>Target</th>\n",
       "      <th>Failure Type</th>\n",
       "    </tr>\n",
       "  </thead>\n",
       "  <tbody>\n",
       "    <tr>\n",
       "      <th>1437</th>\n",
       "      <td>H</td>\n",
       "      <td>298.8</td>\n",
       "      <td>309.9</td>\n",
       "      <td>1439.0</td>\n",
       "      <td>45.2</td>\n",
       "      <td>40</td>\n",
       "      <td>1</td>\n",
       "      <td>No Failure</td>\n",
       "    </tr>\n",
       "    <tr>\n",
       "      <th>2749</th>\n",
       "      <td>M</td>\n",
       "      <td>299.7</td>\n",
       "      <td>309.2</td>\n",
       "      <td>1685.0</td>\n",
       "      <td>28.9</td>\n",
       "      <td>179</td>\n",
       "      <td>1</td>\n",
       "      <td>No Failure</td>\n",
       "    </tr>\n",
       "    <tr>\n",
       "      <th>4044</th>\n",
       "      <td>M</td>\n",
       "      <td>301.9</td>\n",
       "      <td>310.9</td>\n",
       "      <td>1419.0</td>\n",
       "      <td>47.7</td>\n",
       "      <td>20</td>\n",
       "      <td>1</td>\n",
       "      <td>No Failure</td>\n",
       "    </tr>\n",
       "    <tr>\n",
       "      <th>4684</th>\n",
       "      <td>M</td>\n",
       "      <td>303.6</td>\n",
       "      <td>311.8</td>\n",
       "      <td>1421.0</td>\n",
       "      <td>44.8</td>\n",
       "      <td>101</td>\n",
       "      <td>1</td>\n",
       "      <td>No Failure</td>\n",
       "    </tr>\n",
       "    <tr>\n",
       "      <th>5536</th>\n",
       "      <td>M</td>\n",
       "      <td>302.3</td>\n",
       "      <td>311.8</td>\n",
       "      <td>1363.0</td>\n",
       "      <td>54.0</td>\n",
       "      <td>119</td>\n",
       "      <td>1</td>\n",
       "      <td>No Failure</td>\n",
       "    </tr>\n",
       "    <tr>\n",
       "      <th>5941</th>\n",
       "      <td>L</td>\n",
       "      <td>300.6</td>\n",
       "      <td>310.7</td>\n",
       "      <td>1438.0</td>\n",
       "      <td>48.5</td>\n",
       "      <td>78</td>\n",
       "      <td>1</td>\n",
       "      <td>No Failure</td>\n",
       "    </tr>\n",
       "    <tr>\n",
       "      <th>6478</th>\n",
       "      <td>L</td>\n",
       "      <td>300.5</td>\n",
       "      <td>309.8</td>\n",
       "      <td>1663.0</td>\n",
       "      <td>29.1</td>\n",
       "      <td>145</td>\n",
       "      <td>1</td>\n",
       "      <td>No Failure</td>\n",
       "    </tr>\n",
       "    <tr>\n",
       "      <th>8506</th>\n",
       "      <td>L</td>\n",
       "      <td>298.4</td>\n",
       "      <td>309.6</td>\n",
       "      <td>1710.0</td>\n",
       "      <td>27.3</td>\n",
       "      <td>163</td>\n",
       "      <td>1</td>\n",
       "      <td>No Failure</td>\n",
       "    </tr>\n",
       "    <tr>\n",
       "      <th>9015</th>\n",
       "      <td>L</td>\n",
       "      <td>297.2</td>\n",
       "      <td>308.1</td>\n",
       "      <td>1431.0</td>\n",
       "      <td>49.7</td>\n",
       "      <td>210</td>\n",
       "      <td>1</td>\n",
       "      <td>No Failure</td>\n",
       "    </tr>\n",
       "  </tbody>\n",
       "</table>\n",
       "</div>"
      ],
      "text/plain": [
       "     Type  Air temperature [K]  Process temperature [K]  \\\n",
       "1437    H                298.8                    309.9   \n",
       "2749    M                299.7                    309.2   \n",
       "4044    M                301.9                    310.9   \n",
       "4684    M                303.6                    311.8   \n",
       "5536    M                302.3                    311.8   \n",
       "5941    L                300.6                    310.7   \n",
       "6478    L                300.5                    309.8   \n",
       "8506    L                298.4                    309.6   \n",
       "9015    L                297.2                    308.1   \n",
       "\n",
       "      Rotational speed [rpm]  Torque [Nm]  Tool wear [min]  Target  \\\n",
       "1437                  1439.0         45.2               40       1   \n",
       "2749                  1685.0         28.9              179       1   \n",
       "4044                  1419.0         47.7               20       1   \n",
       "4684                  1421.0         44.8              101       1   \n",
       "5536                  1363.0         54.0              119       1   \n",
       "5941                  1438.0         48.5               78       1   \n",
       "6478                  1663.0         29.1              145       1   \n",
       "8506                  1710.0         27.3              163       1   \n",
       "9015                  1431.0         49.7              210       1   \n",
       "\n",
       "     Failure Type  \n",
       "1437   No Failure  \n",
       "2749   No Failure  \n",
       "4044   No Failure  \n",
       "4684   No Failure  \n",
       "5536   No Failure  \n",
       "5941   No Failure  \n",
       "6478   No Failure  \n",
       "8506   No Failure  \n",
       "9015   No Failure  "
      ]
     },
     "execution_count": 12,
     "metadata": {},
     "output_type": "execute_result"
    }
   ],
   "source": [
    "data[(data['Target'] == 1) & (data['Failure Type'] == 'No Failure')]"
   ]
  },
  {
   "cell_type": "code",
   "execution_count": 13,
   "metadata": {},
   "outputs": [],
   "source": [
    "data = data[~((data['Target'] == 1) & (data['Failure Type'] == 'No Failure'))]"
   ]
  },
  {
   "cell_type": "code",
   "execution_count": 14,
   "metadata": {},
   "outputs": [
    {
     "data": {
      "text/html": [
       "<div>\n",
       "<style scoped>\n",
       "    .dataframe tbody tr th:only-of-type {\n",
       "        vertical-align: middle;\n",
       "    }\n",
       "\n",
       "    .dataframe tbody tr th {\n",
       "        vertical-align: top;\n",
       "    }\n",
       "\n",
       "    .dataframe thead th {\n",
       "        text-align: right;\n",
       "    }\n",
       "</style>\n",
       "<table border=\"1\" class=\"dataframe\">\n",
       "  <thead>\n",
       "    <tr style=\"text-align: right;\">\n",
       "      <th></th>\n",
       "      <th>Type</th>\n",
       "      <th>Air temperature [K]</th>\n",
       "      <th>Process temperature [K]</th>\n",
       "      <th>Rotational speed [rpm]</th>\n",
       "      <th>Torque [Nm]</th>\n",
       "      <th>Tool wear [min]</th>\n",
       "      <th>Target</th>\n",
       "      <th>Failure Type</th>\n",
       "    </tr>\n",
       "  </thead>\n",
       "  <tbody>\n",
       "    <tr>\n",
       "      <th>1221</th>\n",
       "      <td>M</td>\n",
       "      <td>297.0</td>\n",
       "      <td>308.3</td>\n",
       "      <td>1399.0</td>\n",
       "      <td>46.4</td>\n",
       "      <td>132</td>\n",
       "      <td>0</td>\n",
       "      <td>Random Failures</td>\n",
       "    </tr>\n",
       "    <tr>\n",
       "      <th>1302</th>\n",
       "      <td>L</td>\n",
       "      <td>298.6</td>\n",
       "      <td>309.8</td>\n",
       "      <td>1505.0</td>\n",
       "      <td>45.7</td>\n",
       "      <td>144</td>\n",
       "      <td>0</td>\n",
       "      <td>Random Failures</td>\n",
       "    </tr>\n",
       "    <tr>\n",
       "      <th>1748</th>\n",
       "      <td>H</td>\n",
       "      <td>298.4</td>\n",
       "      <td>307.7</td>\n",
       "      <td>1626.0</td>\n",
       "      <td>31.1</td>\n",
       "      <td>166</td>\n",
       "      <td>0</td>\n",
       "      <td>Random Failures</td>\n",
       "    </tr>\n",
       "    <tr>\n",
       "      <th>2072</th>\n",
       "      <td>L</td>\n",
       "      <td>299.6</td>\n",
       "      <td>309.5</td>\n",
       "      <td>1570.0</td>\n",
       "      <td>35.5</td>\n",
       "      <td>189</td>\n",
       "      <td>0</td>\n",
       "      <td>Random Failures</td>\n",
       "    </tr>\n",
       "    <tr>\n",
       "      <th>2559</th>\n",
       "      <td>L</td>\n",
       "      <td>299.3</td>\n",
       "      <td>309.0</td>\n",
       "      <td>1447.0</td>\n",
       "      <td>50.4</td>\n",
       "      <td>140</td>\n",
       "      <td>0</td>\n",
       "      <td>Random Failures</td>\n",
       "    </tr>\n",
       "    <tr>\n",
       "      <th>3065</th>\n",
       "      <td>M</td>\n",
       "      <td>300.1</td>\n",
       "      <td>309.2</td>\n",
       "      <td>1687.0</td>\n",
       "      <td>27.7</td>\n",
       "      <td>95</td>\n",
       "      <td>0</td>\n",
       "      <td>Random Failures</td>\n",
       "    </tr>\n",
       "    <tr>\n",
       "      <th>3452</th>\n",
       "      <td>H</td>\n",
       "      <td>301.6</td>\n",
       "      <td>310.5</td>\n",
       "      <td>1602.0</td>\n",
       "      <td>32.3</td>\n",
       "      <td>2</td>\n",
       "      <td>0</td>\n",
       "      <td>Random Failures</td>\n",
       "    </tr>\n",
       "    <tr>\n",
       "      <th>5471</th>\n",
       "      <td>L</td>\n",
       "      <td>302.7</td>\n",
       "      <td>312.3</td>\n",
       "      <td>1346.0</td>\n",
       "      <td>61.2</td>\n",
       "      <td>170</td>\n",
       "      <td>0</td>\n",
       "      <td>Random Failures</td>\n",
       "    </tr>\n",
       "    <tr>\n",
       "      <th>5489</th>\n",
       "      <td>L</td>\n",
       "      <td>302.6</td>\n",
       "      <td>312.1</td>\n",
       "      <td>1499.0</td>\n",
       "      <td>35.0</td>\n",
       "      <td>215</td>\n",
       "      <td>0</td>\n",
       "      <td>Random Failures</td>\n",
       "    </tr>\n",
       "    <tr>\n",
       "      <th>5495</th>\n",
       "      <td>H</td>\n",
       "      <td>302.9</td>\n",
       "      <td>312.5</td>\n",
       "      <td>1357.0</td>\n",
       "      <td>55.0</td>\n",
       "      <td>12</td>\n",
       "      <td>0</td>\n",
       "      <td>Random Failures</td>\n",
       "    </tr>\n",
       "    <tr>\n",
       "      <th>5509</th>\n",
       "      <td>L</td>\n",
       "      <td>302.8</td>\n",
       "      <td>312.2</td>\n",
       "      <td>1509.0</td>\n",
       "      <td>36.5</td>\n",
       "      <td>52</td>\n",
       "      <td>0</td>\n",
       "      <td>Random Failures</td>\n",
       "    </tr>\n",
       "    <tr>\n",
       "      <th>5553</th>\n",
       "      <td>L</td>\n",
       "      <td>302.5</td>\n",
       "      <td>311.9</td>\n",
       "      <td>1306.0</td>\n",
       "      <td>59.7</td>\n",
       "      <td>172</td>\n",
       "      <td>0</td>\n",
       "      <td>Random Failures</td>\n",
       "    </tr>\n",
       "    <tr>\n",
       "      <th>5639</th>\n",
       "      <td>L</td>\n",
       "      <td>302.6</td>\n",
       "      <td>312.1</td>\n",
       "      <td>1668.0</td>\n",
       "      <td>28.7</td>\n",
       "      <td>180</td>\n",
       "      <td>0</td>\n",
       "      <td>Random Failures</td>\n",
       "    </tr>\n",
       "    <tr>\n",
       "      <th>6091</th>\n",
       "      <td>L</td>\n",
       "      <td>300.9</td>\n",
       "      <td>310.7</td>\n",
       "      <td>1412.0</td>\n",
       "      <td>57.5</td>\n",
       "      <td>16</td>\n",
       "      <td>0</td>\n",
       "      <td>Random Failures</td>\n",
       "    </tr>\n",
       "    <tr>\n",
       "      <th>6913</th>\n",
       "      <td>L</td>\n",
       "      <td>300.8</td>\n",
       "      <td>311.2</td>\n",
       "      <td>1481.0</td>\n",
       "      <td>38.5</td>\n",
       "      <td>181</td>\n",
       "      <td>0</td>\n",
       "      <td>Random Failures</td>\n",
       "    </tr>\n",
       "    <tr>\n",
       "      <th>6960</th>\n",
       "      <td>L</td>\n",
       "      <td>300.7</td>\n",
       "      <td>311.0</td>\n",
       "      <td>1413.0</td>\n",
       "      <td>52.0</td>\n",
       "      <td>91</td>\n",
       "      <td>0</td>\n",
       "      <td>Random Failures</td>\n",
       "    </tr>\n",
       "    <tr>\n",
       "      <th>7488</th>\n",
       "      <td>L</td>\n",
       "      <td>300.3</td>\n",
       "      <td>311.7</td>\n",
       "      <td>1545.0</td>\n",
       "      <td>43.5</td>\n",
       "      <td>160</td>\n",
       "      <td>0</td>\n",
       "      <td>Random Failures</td>\n",
       "    </tr>\n",
       "    <tr>\n",
       "      <th>7868</th>\n",
       "      <td>H</td>\n",
       "      <td>300.4</td>\n",
       "      <td>311.9</td>\n",
       "      <td>1438.0</td>\n",
       "      <td>46.7</td>\n",
       "      <td>41</td>\n",
       "      <td>0</td>\n",
       "      <td>Random Failures</td>\n",
       "    </tr>\n",
       "  </tbody>\n",
       "</table>\n",
       "</div>"
      ],
      "text/plain": [
       "     Type  Air temperature [K]  Process temperature [K]  \\\n",
       "1221    M                297.0                    308.3   \n",
       "1302    L                298.6                    309.8   \n",
       "1748    H                298.4                    307.7   \n",
       "2072    L                299.6                    309.5   \n",
       "2559    L                299.3                    309.0   \n",
       "3065    M                300.1                    309.2   \n",
       "3452    H                301.6                    310.5   \n",
       "5471    L                302.7                    312.3   \n",
       "5489    L                302.6                    312.1   \n",
       "5495    H                302.9                    312.5   \n",
       "5509    L                302.8                    312.2   \n",
       "5553    L                302.5                    311.9   \n",
       "5639    L                302.6                    312.1   \n",
       "6091    L                300.9                    310.7   \n",
       "6913    L                300.8                    311.2   \n",
       "6960    L                300.7                    311.0   \n",
       "7488    L                300.3                    311.7   \n",
       "7868    H                300.4                    311.9   \n",
       "\n",
       "      Rotational speed [rpm]  Torque [Nm]  Tool wear [min]  Target  \\\n",
       "1221                  1399.0         46.4              132       0   \n",
       "1302                  1505.0         45.7              144       0   \n",
       "1748                  1626.0         31.1              166       0   \n",
       "2072                  1570.0         35.5              189       0   \n",
       "2559                  1447.0         50.4              140       0   \n",
       "3065                  1687.0         27.7               95       0   \n",
       "3452                  1602.0         32.3                2       0   \n",
       "5471                  1346.0         61.2              170       0   \n",
       "5489                  1499.0         35.0              215       0   \n",
       "5495                  1357.0         55.0               12       0   \n",
       "5509                  1509.0         36.5               52       0   \n",
       "5553                  1306.0         59.7              172       0   \n",
       "5639                  1668.0         28.7              180       0   \n",
       "6091                  1412.0         57.5               16       0   \n",
       "6913                  1481.0         38.5              181       0   \n",
       "6960                  1413.0         52.0               91       0   \n",
       "7488                  1545.0         43.5              160       0   \n",
       "7868                  1438.0         46.7               41       0   \n",
       "\n",
       "         Failure Type  \n",
       "1221  Random Failures  \n",
       "1302  Random Failures  \n",
       "1748  Random Failures  \n",
       "2072  Random Failures  \n",
       "2559  Random Failures  \n",
       "3065  Random Failures  \n",
       "3452  Random Failures  \n",
       "5471  Random Failures  \n",
       "5489  Random Failures  \n",
       "5495  Random Failures  \n",
       "5509  Random Failures  \n",
       "5553  Random Failures  \n",
       "5639  Random Failures  \n",
       "6091  Random Failures  \n",
       "6913  Random Failures  \n",
       "6960  Random Failures  \n",
       "7488  Random Failures  \n",
       "7868  Random Failures  "
      ]
     },
     "execution_count": 14,
     "metadata": {},
     "output_type": "execute_result"
    }
   ],
   "source": [
    "data[(data['Target'] == 0) & (data['Failure Type'] != 'No Failure')]"
   ]
  },
  {
   "cell_type": "code",
   "execution_count": 15,
   "metadata": {},
   "outputs": [],
   "source": [
    "data = data[~((data['Target'] == 0) & (data['Failure Type'] != 'No Failure'))]"
   ]
  },
  {
   "cell_type": "code",
   "execution_count": 16,
   "metadata": {},
   "outputs": [
    {
     "data": {
      "text/plain": [
       "(9973, 8)"
      ]
     },
     "execution_count": 16,
     "metadata": {},
     "output_type": "execute_result"
    }
   ],
   "source": [
    "data.shape"
   ]
  },
  {
   "cell_type": "code",
   "execution_count": 17,
   "metadata": {},
   "outputs": [
    {
     "data": {
      "text/plain": [
       "<AxesSubplot:>"
      ]
     },
     "execution_count": 17,
     "metadata": {},
     "output_type": "execute_result"
    },
    {
     "data": {
      "image/png": "[encoded data removed]",
      "text/plain": [
       "<Figure size 432x288 with 2 Axes>"
      ]
     },
     "metadata": {},
     "output_type": "display_data"
    }
   ],
   "source": [
    "sns.heatmap(data.corr(), annot = True)"
   ]
  },
  {
   "cell_type": "code",
   "execution_count": 18,
   "metadata": {},
   "outputs": [
    {
     "data": {
      "image/png": "[encoded data removed]",
      "text/plain": [
       "<Figure size 432x288 with 1 Axes>"
      ]
     },
     "metadata": {},
     "output_type": "display_data"
    },
    {
     "data": {
      "image/png": "[encoded data removed]",
      "text/plain": [
       "<Figure size 432x288 with 1 Axes>"
      ]
     },
     "metadata": {},
     "output_type": "display_data"
    },
    {
     "data": {
      "image/png": "[encoded data removed]",
      "text/plain": [
       "<Figure size 432x288 with 1 Axes>"
      ]
     },
     "metadata": {},
     "output_type": "display_data"
    },
    {
     "data": {
      "image/png": "[encoded data removed]",
      "text/plain": [
       "<Figure size 432x288 with 1 Axes>"
      ]
     },
     "metadata": {},
     "output_type": "display_data"
    },
    {
     "data": {
      "image/png": "[encoded data removed]",
      "text/plain": [
       "<Figure size 432x288 with 1 Axes>"
      ]
     },
     "metadata": {},
     "output_type": "display_data"
    }
   ],
   "source": [
    "numerical_features = list(data.select_dtypes(exclude = ['object']).columns)\n",
    "numerical_features.remove('Target')\n",
    "for feature in numerical_features:\n",
    "    sns.boxplot(data[feature])\n",
    "    plt.show()"
   ]
  },
  {
   "cell_type": "code",
   "execution_count": 19,
   "metadata": {},
   "outputs": [],
   "source": [
    "for feature in numerical_features:\n",
    "    q1 = data[feature].quantile(0.25)\n",
    "    q3 = data[feature].quantile(0.75)\n",
    "    iqr = q3 - q1\n",
    "    upper_limit = q3 + 1.5 * iqr\n",
    "    lower_limit = q1 - 1.5 * iqr\n",
    "    data[feature] = np.where(data[feature] > upper_limit, upper_limit, \n",
    "                             np.where(data[feature] < lower_limit, lower_limit, data[feature]))\n"
   ]
  },
  {
   "cell_type": "code",
   "execution_count": 20,
   "metadata": {},
   "outputs": [
    {
     "data": {
      "image/png": "[encoded data removed]",
      "text/plain": [
       "<Figure size 432x288 with 1 Axes>"
      ]
     },
     "metadata": {},
     "output_type": "display_data"
    },
    {
     "data": {
      "image/png": "[encoded data removed]",
      "text/plain": [
       "<Figure size 432x288 with 1 Axes>"
      ]
     },
     "metadata": {},
     "output_type": "display_data"
    },
    {
     "data": {
      "image/png": "[encoded data removed]",
      "text/plain": [
       "<Figure size 432x288 with 1 Axes>"
      ]
     },
     "metadata": {},
     "output_type": "display_data"
    },
    {
     "data": {
      "image/png": "[encoded data removed]",
      "text/plain": [
       "<Figure size 432x288 with 1 Axes>"
      ]
     },
     "metadata": {},
     "output_type": "display_data"
    },
    {
     "data": {
      "image/png": "[encoded data removed]",
      "text/plain": [
       "<Figure size 432x288 with 1 Axes>"
      ]
     },
     "metadata": {},
     "output_type": "display_data"
    }
   ],
   "source": [
    "for feature in numerical_features:\n",
    "    sns.boxplot(data[feature])\n",
    "    plt.show()"
   ]
  },
  {
   "cell_type": "markdown",
   "metadata": {},
   "source": [
    "# EDA\n"
   ]
  },
  {
   "cell_type": "code",
   "execution_count": 21,
   "metadata": {
    "scrolled": true
   },
   "outputs": [
    {
     "name": "stdout",
     "output_type": "stream",
     "text": [
      "<class 'pandas.core.frame.DataFrame'>\n",
      "Int64Index: 9973 entries, 0 to 9999\n",
      "Data columns (total 8 columns):\n",
      " #   Column                   Non-Null Count  Dtype  \n",
      "---  ------                   --------------  -----  \n",
      " 0   Type                     9973 non-null   object \n",
      " 1   Air temperature [K]      9973 non-null   float64\n",
      " 2   Process temperature [K]  9973 non-null   float64\n",
      " 3   Rotational speed [rpm]   9973 non-null   float64\n",
      " 4   Torque [Nm]              9973 non-null   float64\n",
      " 5   Tool wear [min]          9973 non-null   float64\n",
      " 6   Target                   9973 non-null   int64  \n",
      " 7   Failure Type             9973 non-null   object \n",
      "dtypes: float64(5), int64(1), object(2)\n",
      "memory usage: 701.2+ KB\n"
     ]
    }
   ],
   "source": [
    "data.info()"
   ]
  },
  {
   "cell_type": "code",
   "execution_count": 22,
   "metadata": {},
   "outputs": [
    {
     "data": {
      "text/html": [
       "<div>\n",
       "<style scoped>\n",
       "    .dataframe tbody tr th:only-of-type {\n",
       "        vertical-align: middle;\n",
       "    }\n",
       "\n",
       "    .dataframe tbody tr th {\n",
       "        vertical-align: top;\n",
       "    }\n",
       "\n",
       "    .dataframe thead th {\n",
       "        text-align: right;\n",
       "    }\n",
       "</style>\n",
       "<table border=\"1\" class=\"dataframe\">\n",
       "  <thead>\n",
       "    <tr style=\"text-align: right;\">\n",
       "      <th></th>\n",
       "      <th>Air temperature [K]</th>\n",
       "      <th>Process temperature [K]</th>\n",
       "      <th>Rotational speed [rpm]</th>\n",
       "      <th>Torque [Nm]</th>\n",
       "      <th>Tool wear [min]</th>\n",
       "      <th>Target</th>\n",
       "    </tr>\n",
       "  </thead>\n",
       "  <tbody>\n",
       "    <tr>\n",
       "      <th>count</th>\n",
       "      <td>9973.000000</td>\n",
       "      <td>9973.000000</td>\n",
       "      <td>9973.000000</td>\n",
       "      <td>9973.000000</td>\n",
       "      <td>9973.000000</td>\n",
       "      <td>9973.000000</td>\n",
       "    </tr>\n",
       "    <tr>\n",
       "      <th>mean</th>\n",
       "      <td>300.003259</td>\n",
       "      <td>310.004031</td>\n",
       "      <td>1530.236238</td>\n",
       "      <td>39.974952</td>\n",
       "      <td>107.921087</td>\n",
       "      <td>0.033089</td>\n",
       "    </tr>\n",
       "    <tr>\n",
       "      <th>std</th>\n",
       "      <td>2.000548</td>\n",
       "      <td>1.483692</td>\n",
       "      <td>148.867989</td>\n",
       "      <td>9.908356</td>\n",
       "      <td>63.649152</td>\n",
       "      <td>0.178879</td>\n",
       "    </tr>\n",
       "    <tr>\n",
       "      <th>min</th>\n",
       "      <td>295.300000</td>\n",
       "      <td>305.700000</td>\n",
       "      <td>1168.000000</td>\n",
       "      <td>12.950000</td>\n",
       "      <td>0.000000</td>\n",
       "      <td>0.000000</td>\n",
       "    </tr>\n",
       "    <tr>\n",
       "      <th>25%</th>\n",
       "      <td>298.300000</td>\n",
       "      <td>308.800000</td>\n",
       "      <td>1423.000000</td>\n",
       "      <td>33.200000</td>\n",
       "      <td>53.000000</td>\n",
       "      <td>0.000000</td>\n",
       "    </tr>\n",
       "    <tr>\n",
       "      <th>50%</th>\n",
       "      <td>300.100000</td>\n",
       "      <td>310.100000</td>\n",
       "      <td>1503.000000</td>\n",
       "      <td>40.100000</td>\n",
       "      <td>108.000000</td>\n",
       "      <td>0.000000</td>\n",
       "    </tr>\n",
       "    <tr>\n",
       "      <th>75%</th>\n",
       "      <td>301.500000</td>\n",
       "      <td>311.100000</td>\n",
       "      <td>1612.000000</td>\n",
       "      <td>46.700000</td>\n",
       "      <td>162.000000</td>\n",
       "      <td>0.000000</td>\n",
       "    </tr>\n",
       "    <tr>\n",
       "      <th>max</th>\n",
       "      <td>304.500000</td>\n",
       "      <td>313.800000</td>\n",
       "      <td>1895.500000</td>\n",
       "      <td>66.950000</td>\n",
       "      <td>253.000000</td>\n",
       "      <td>1.000000</td>\n",
       "    </tr>\n",
       "  </tbody>\n",
       "</table>\n",
       "</div>"
      ],
      "text/plain": [
       "       Air temperature [K]  Process temperature [K]  Rotational speed [rpm]  \\\n",
       "count          9973.000000              9973.000000             9973.000000   \n",
       "mean            300.003259               310.004031             1530.236238   \n",
       "std               2.000548                 1.483692              148.867989   \n",
       "min             295.300000               305.700000             1168.000000   \n",
       "25%             298.300000               308.800000             1423.000000   \n",
       "50%             300.100000               310.100000             1503.000000   \n",
       "75%             301.500000               311.100000             1612.000000   \n",
       "max             304.500000               313.800000             1895.500000   \n",
       "\n",
       "       Torque [Nm]  Tool wear [min]       Target  \n",
       "count  9973.000000      9973.000000  9973.000000  \n",
       "mean     39.974952       107.921087     0.033089  \n",
       "std       9.908356        63.649152     0.178879  \n",
       "min      12.950000         0.000000     0.000000  \n",
       "25%      33.200000        53.000000     0.000000  \n",
       "50%      40.100000       108.000000     0.000000  \n",
       "75%      46.700000       162.000000     0.000000  \n",
       "max      66.950000       253.000000     1.000000  "
      ]
     },
     "execution_count": 22,
     "metadata": {},
     "output_type": "execute_result"
    }
   ],
   "source": [
    "data.describe()"
   ]
  },
  {
   "cell_type": "code",
   "execution_count": 23,
   "metadata": {},
   "outputs": [
    {
     "data": {
      "text/html": [
       "<div>\n",
       "<style scoped>\n",
       "    .dataframe tbody tr th:only-of-type {\n",
       "        vertical-align: middle;\n",
       "    }\n",
       "\n",
       "    .dataframe tbody tr th {\n",
       "        vertical-align: top;\n",
       "    }\n",
       "\n",
       "    .dataframe thead th {\n",
       "        text-align: right;\n",
       "    }\n",
       "</style>\n",
       "<table border=\"1\" class=\"dataframe\">\n",
       "  <thead>\n",
       "    <tr style=\"text-align: right;\">\n",
       "      <th></th>\n",
       "      <th>Type</th>\n",
       "      <th>Failure Type</th>\n",
       "    </tr>\n",
       "  </thead>\n",
       "  <tbody>\n",
       "    <tr>\n",
       "      <th>count</th>\n",
       "      <td>9973</td>\n",
       "      <td>9973</td>\n",
       "    </tr>\n",
       "    <tr>\n",
       "      <th>unique</th>\n",
       "      <td>3</td>\n",
       "      <td>5</td>\n",
       "    </tr>\n",
       "    <tr>\n",
       "      <th>top</th>\n",
       "      <td>L</td>\n",
       "      <td>No Failure</td>\n",
       "    </tr>\n",
       "    <tr>\n",
       "      <th>freq</th>\n",
       "      <td>5984</td>\n",
       "      <td>9643</td>\n",
       "    </tr>\n",
       "  </tbody>\n",
       "</table>\n",
       "</div>"
      ],
      "text/plain": [
       "        Type Failure Type\n",
       "count   9973         9973\n",
       "unique     3            5\n",
       "top        L   No Failure\n",
       "freq    5984         9643"
      ]
     },
     "execution_count": 23,
     "metadata": {},
     "output_type": "execute_result"
    }
   ],
   "source": [
    "data.describe(include = 'O')"
   ]
  },
  {
   "cell_type": "code",
   "execution_count": 24,
   "metadata": {},
   "outputs": [],
   "source": [
    "df = data['Type'].value_counts().reset_index()"
   ]
  },
  {
   "cell_type": "code",
   "execution_count": 25,
   "metadata": {},
   "outputs": [],
   "source": [
    "df.rename({'Type': 'count'}, axis = 1, inplace = True)"
   ]
  },
  {
   "cell_type": "code",
   "execution_count": 26,
   "metadata": {},
   "outputs": [],
   "source": [
    "df.rename({'index': 'Type'}, axis = 1, inplace = True)"
   ]
  },
  {
   "cell_type": "code",
   "execution_count": 27,
   "metadata": {},
   "outputs": [
    {
     "data": {
      "image/png": "[encoded data removed]",
      "text/plain": [
       "<Figure size 432x288 with 1 Axes>"
      ]
     },
     "metadata": {},
     "output_type": "display_data"
    }
   ],
   "source": [
    "plt.pie(df['count'], labels = df['Type'], autopct = '%.2f')\n",
    "plt.show()"
   ]
  },
  {
   "cell_type": "code",
   "execution_count": 28,
   "metadata": {},
   "outputs": [],
   "source": [
    "df1 = data['Failure Type'].value_counts().reset_index()"
   ]
  },
  {
   "cell_type": "code",
   "execution_count": 29,
   "metadata": {},
   "outputs": [
    {
     "data": {
      "text/html": [
       "<div>\n",
       "<style scoped>\n",
       "    .dataframe tbody tr th:only-of-type {\n",
       "        vertical-align: middle;\n",
       "    }\n",
       "\n",
       "    .dataframe tbody tr th {\n",
       "        vertical-align: top;\n",
       "    }\n",
       "\n",
       "    .dataframe thead th {\n",
       "        text-align: right;\n",
       "    }\n",
       "</style>\n",
       "<table border=\"1\" class=\"dataframe\">\n",
       "  <thead>\n",
       "    <tr style=\"text-align: right;\">\n",
       "      <th></th>\n",
       "      <th>Failure Type</th>\n",
       "      <th>count</th>\n",
       "    </tr>\n",
       "  </thead>\n",
       "  <tbody>\n",
       "    <tr>\n",
       "      <th>0</th>\n",
       "      <td>No Failure</td>\n",
       "      <td>9643</td>\n",
       "    </tr>\n",
       "    <tr>\n",
       "      <th>1</th>\n",
       "      <td>Heat Dissipation Failure</td>\n",
       "      <td>112</td>\n",
       "    </tr>\n",
       "    <tr>\n",
       "      <th>2</th>\n",
       "      <td>Power Failure</td>\n",
       "      <td>95</td>\n",
       "    </tr>\n",
       "    <tr>\n",
       "      <th>3</th>\n",
       "      <td>Overstrain Failure</td>\n",
       "      <td>78</td>\n",
       "    </tr>\n",
       "    <tr>\n",
       "      <th>4</th>\n",
       "      <td>Tool Wear Failure</td>\n",
       "      <td>45</td>\n",
       "    </tr>\n",
       "  </tbody>\n",
       "</table>\n",
       "</div>"
      ],
      "text/plain": [
       "               Failure Type  count\n",
       "0                No Failure   9643\n",
       "1  Heat Dissipation Failure    112\n",
       "2             Power Failure     95\n",
       "3        Overstrain Failure     78\n",
       "4         Tool Wear Failure     45"
      ]
     },
     "execution_count": 29,
     "metadata": {},
     "output_type": "execute_result"
    }
   ],
   "source": [
    "df1.rename({'Failure Type': 'count'}, axis = 1, inplace = True)\n",
    "df1.rename({'index': 'Failure Type'}, axis = 1, inplace = True)\n",
    "df1"
   ]
  },
  {
   "cell_type": "code",
   "execution_count": 30,
   "metadata": {},
   "outputs": [
    {
     "data": {
      "text/plain": [
       "<AxesSubplot:xlabel='Target', ylabel='count'>"
      ]
     },
     "execution_count": 30,
     "metadata": {},
     "output_type": "execute_result"
    },
    {
     "data": {
      "image/png": "[encoded data removed]",
      "text/plain": [
       "<Figure size 432x288 with 1 Axes>"
      ]
     },
     "metadata": {},
     "output_type": "display_data"
    }
   ],
   "source": [
    "sns.countplot(data['Target'])"
   ]
  },
  {
   "cell_type": "code",
   "execution_count": 31,
   "metadata": {},
   "outputs": [],
   "source": [
    "data_processed = pd.get_dummies(data, drop_first = True)"
   ]
  },
  {
   "cell_type": "code",
   "execution_count": 32,
   "metadata": {},
   "outputs": [
    {
     "data": {
      "text/html": [
       "<div>\n",
       "<style scoped>\n",
       "    .dataframe tbody tr th:only-of-type {\n",
       "        vertical-align: middle;\n",
       "    }\n",
       "\n",
       "    .dataframe tbody tr th {\n",
       "        vertical-align: top;\n",
       "    }\n",
       "\n",
       "    .dataframe thead th {\n",
       "        text-align: right;\n",
       "    }\n",
       "</style>\n",
       "<table border=\"1\" class=\"dataframe\">\n",
       "  <thead>\n",
       "    <tr style=\"text-align: right;\">\n",
       "      <th></th>\n",
       "      <th>Air temperature [K]</th>\n",
       "      <th>Process temperature [K]</th>\n",
       "      <th>Rotational speed [rpm]</th>\n",
       "      <th>Torque [Nm]</th>\n",
       "      <th>Tool wear [min]</th>\n",
       "      <th>Target</th>\n",
       "      <th>Type_L</th>\n",
       "      <th>Type_M</th>\n",
       "      <th>Failure Type_No Failure</th>\n",
       "      <th>Failure Type_Overstrain Failure</th>\n",
       "      <th>Failure Type_Power Failure</th>\n",
       "      <th>Failure Type_Tool Wear Failure</th>\n",
       "    </tr>\n",
       "  </thead>\n",
       "  <tbody>\n",
       "    <tr>\n",
       "      <th>0</th>\n",
       "      <td>298.1</td>\n",
       "      <td>308.6</td>\n",
       "      <td>1551.0</td>\n",
       "      <td>42.8</td>\n",
       "      <td>0.0</td>\n",
       "      <td>0</td>\n",
       "      <td>0</td>\n",
       "      <td>1</td>\n",
       "      <td>1</td>\n",
       "      <td>0</td>\n",
       "      <td>0</td>\n",
       "      <td>0</td>\n",
       "    </tr>\n",
       "    <tr>\n",
       "      <th>1</th>\n",
       "      <td>298.2</td>\n",
       "      <td>308.7</td>\n",
       "      <td>1408.0</td>\n",
       "      <td>46.3</td>\n",
       "      <td>3.0</td>\n",
       "      <td>0</td>\n",
       "      <td>1</td>\n",
       "      <td>0</td>\n",
       "      <td>1</td>\n",
       "      <td>0</td>\n",
       "      <td>0</td>\n",
       "      <td>0</td>\n",
       "    </tr>\n",
       "    <tr>\n",
       "      <th>2</th>\n",
       "      <td>298.1</td>\n",
       "      <td>308.5</td>\n",
       "      <td>1498.0</td>\n",
       "      <td>49.4</td>\n",
       "      <td>5.0</td>\n",
       "      <td>0</td>\n",
       "      <td>1</td>\n",
       "      <td>0</td>\n",
       "      <td>1</td>\n",
       "      <td>0</td>\n",
       "      <td>0</td>\n",
       "      <td>0</td>\n",
       "    </tr>\n",
       "    <tr>\n",
       "      <th>3</th>\n",
       "      <td>298.2</td>\n",
       "      <td>308.6</td>\n",
       "      <td>1433.0</td>\n",
       "      <td>39.5</td>\n",
       "      <td>7.0</td>\n",
       "      <td>0</td>\n",
       "      <td>1</td>\n",
       "      <td>0</td>\n",
       "      <td>1</td>\n",
       "      <td>0</td>\n",
       "      <td>0</td>\n",
       "      <td>0</td>\n",
       "    </tr>\n",
       "    <tr>\n",
       "      <th>4</th>\n",
       "      <td>298.2</td>\n",
       "      <td>308.7</td>\n",
       "      <td>1408.0</td>\n",
       "      <td>40.0</td>\n",
       "      <td>9.0</td>\n",
       "      <td>0</td>\n",
       "      <td>1</td>\n",
       "      <td>0</td>\n",
       "      <td>1</td>\n",
       "      <td>0</td>\n",
       "      <td>0</td>\n",
       "      <td>0</td>\n",
       "    </tr>\n",
       "  </tbody>\n",
       "</table>\n",
       "</div>"
      ],
      "text/plain": [
       "   Air temperature [K]  Process temperature [K]  Rotational speed [rpm]  \\\n",
       "0                298.1                    308.6                  1551.0   \n",
       "1                298.2                    308.7                  1408.0   \n",
       "2                298.1                    308.5                  1498.0   \n",
       "3                298.2                    308.6                  1433.0   \n",
       "4                298.2                    308.7                  1408.0   \n",
       "\n",
       "   Torque [Nm]  Tool wear [min]  Target  Type_L  Type_M  \\\n",
       "0         42.8              0.0       0       0       1   \n",
       "1         46.3              3.0       0       1       0   \n",
       "2         49.4              5.0       0       1       0   \n",
       "3         39.5              7.0       0       1       0   \n",
       "4         40.0              9.0       0       1       0   \n",
       "\n",
       "   Failure Type_No Failure  Failure Type_Overstrain Failure  \\\n",
       "0                        1                                0   \n",
       "1                        1                                0   \n",
       "2                        1                                0   \n",
       "3                        1                                0   \n",
       "4                        1                                0   \n",
       "\n",
       "   Failure Type_Power Failure  Failure Type_Tool Wear Failure  \n",
       "0                           0                               0  \n",
       "1                           0                               0  \n",
       "2                           0                               0  \n",
       "3                           0                               0  \n",
       "4                           0                               0  "
      ]
     },
     "execution_count": 32,
     "metadata": {},
     "output_type": "execute_result"
    }
   ],
   "source": [
    "data_processed.head()"
   ]
  },
  {
   "cell_type": "code",
   "execution_count": 33,
   "metadata": {},
   "outputs": [],
   "source": [
    "X = data_processed[['Air temperature [K]', 'Process temperature [K]', 'Rotational speed [rpm]', 'Torque [Nm]', 'Tool wear [min]', 'Type_L', 'Type_M']]\n",
    "y = data_processed[['Target']]"
   ]
  },
  {
   "cell_type": "code",
   "execution_count": 34,
   "metadata": {},
   "outputs": [
    {
     "data": {
      "text/html": [
       "<div>\n",
       "<style scoped>\n",
       "    .dataframe tbody tr th:only-of-type {\n",
       "        vertical-align: middle;\n",
       "    }\n",
       "\n",
       "    .dataframe tbody tr th {\n",
       "        vertical-align: top;\n",
       "    }\n",
       "\n",
       "    .dataframe thead th {\n",
       "        text-align: right;\n",
       "    }\n",
       "</style>\n",
       "<table border=\"1\" class=\"dataframe\">\n",
       "  <thead>\n",
       "    <tr style=\"text-align: right;\">\n",
       "      <th></th>\n",
       "      <th>Air temperature [K]</th>\n",
       "      <th>Process temperature [K]</th>\n",
       "      <th>Rotational speed [rpm]</th>\n",
       "      <th>Torque [Nm]</th>\n",
       "      <th>Tool wear [min]</th>\n",
       "      <th>Type_L</th>\n",
       "      <th>Type_M</th>\n",
       "    </tr>\n",
       "  </thead>\n",
       "  <tbody>\n",
       "    <tr>\n",
       "      <th>0</th>\n",
       "      <td>-0.951417</td>\n",
       "      <td>-0.946356</td>\n",
       "      <td>0.139485</td>\n",
       "      <td>0.285132</td>\n",
       "      <td>-1.695647</td>\n",
       "      <td>-1.224796</td>\n",
       "      <td>1.527854</td>\n",
       "    </tr>\n",
       "    <tr>\n",
       "      <th>1</th>\n",
       "      <td>-0.901428</td>\n",
       "      <td>-0.878954</td>\n",
       "      <td>-0.821146</td>\n",
       "      <td>0.638387</td>\n",
       "      <td>-1.648511</td>\n",
       "      <td>0.816462</td>\n",
       "      <td>-0.654513</td>\n",
       "    </tr>\n",
       "    <tr>\n",
       "      <th>2</th>\n",
       "      <td>-0.951417</td>\n",
       "      <td>-1.013759</td>\n",
       "      <td>-0.216553</td>\n",
       "      <td>0.951270</td>\n",
       "      <td>-1.617087</td>\n",
       "      <td>0.816462</td>\n",
       "      <td>-0.654513</td>\n",
       "    </tr>\n",
       "    <tr>\n",
       "      <th>3</th>\n",
       "      <td>-0.901428</td>\n",
       "      <td>-0.946356</td>\n",
       "      <td>-0.653204</td>\n",
       "      <td>-0.047937</td>\n",
       "      <td>-1.585664</td>\n",
       "      <td>0.816462</td>\n",
       "      <td>-0.654513</td>\n",
       "    </tr>\n",
       "    <tr>\n",
       "      <th>4</th>\n",
       "      <td>-0.901428</td>\n",
       "      <td>-0.878954</td>\n",
       "      <td>-0.821146</td>\n",
       "      <td>0.002528</td>\n",
       "      <td>-1.554240</td>\n",
       "      <td>0.816462</td>\n",
       "      <td>-0.654513</td>\n",
       "    </tr>\n",
       "    <tr>\n",
       "      <th>...</th>\n",
       "      <td>...</td>\n",
       "      <td>...</td>\n",
       "      <td>...</td>\n",
       "      <td>...</td>\n",
       "      <td>...</td>\n",
       "      <td>...</td>\n",
       "      <td>...</td>\n",
       "    </tr>\n",
       "    <tr>\n",
       "      <th>9968</th>\n",
       "      <td>-0.601495</td>\n",
       "      <td>-1.081162</td>\n",
       "      <td>0.495523</td>\n",
       "      <td>-1.057237</td>\n",
       "      <td>-1.475680</td>\n",
       "      <td>-1.224796</td>\n",
       "      <td>1.527854</td>\n",
       "    </tr>\n",
       "    <tr>\n",
       "      <th>9969</th>\n",
       "      <td>-0.551506</td>\n",
       "      <td>-1.081162</td>\n",
       "      <td>0.683618</td>\n",
       "      <td>-0.825098</td>\n",
       "      <td>-1.428545</td>\n",
       "      <td>-1.224796</td>\n",
       "      <td>-0.654513</td>\n",
       "    </tr>\n",
       "    <tr>\n",
       "      <th>9970</th>\n",
       "      <td>-0.501517</td>\n",
       "      <td>-0.946356</td>\n",
       "      <td>0.770948</td>\n",
       "      <td>-0.663610</td>\n",
       "      <td>-1.349985</td>\n",
       "      <td>-1.224796</td>\n",
       "      <td>1.527854</td>\n",
       "    </tr>\n",
       "    <tr>\n",
       "      <th>9971</th>\n",
       "      <td>-0.501517</td>\n",
       "      <td>-0.878954</td>\n",
       "      <td>-0.821146</td>\n",
       "      <td>0.860433</td>\n",
       "      <td>-1.302849</td>\n",
       "      <td>-1.224796</td>\n",
       "      <td>-0.654513</td>\n",
       "    </tr>\n",
       "    <tr>\n",
       "      <th>9972</th>\n",
       "      <td>-0.501517</td>\n",
       "      <td>-0.878954</td>\n",
       "      <td>-0.203118</td>\n",
       "      <td>0.022714</td>\n",
       "      <td>-1.224290</td>\n",
       "      <td>-1.224796</td>\n",
       "      <td>1.527854</td>\n",
       "    </tr>\n",
       "  </tbody>\n",
       "</table>\n",
       "<p>9973 rows × 7 columns</p>\n",
       "</div>"
      ],
      "text/plain": [
       "      Air temperature [K]  Process temperature [K]  Rotational speed [rpm]  \\\n",
       "0               -0.951417                -0.946356                0.139485   \n",
       "1               -0.901428                -0.878954               -0.821146   \n",
       "2               -0.951417                -1.013759               -0.216553   \n",
       "3               -0.901428                -0.946356               -0.653204   \n",
       "4               -0.901428                -0.878954               -0.821146   \n",
       "...                   ...                      ...                     ...   \n",
       "9968            -0.601495                -1.081162                0.495523   \n",
       "9969            -0.551506                -1.081162                0.683618   \n",
       "9970            -0.501517                -0.946356                0.770948   \n",
       "9971            -0.501517                -0.878954               -0.821146   \n",
       "9972            -0.501517                -0.878954               -0.203118   \n",
       "\n",
       "      Torque [Nm]  Tool wear [min]    Type_L    Type_M  \n",
       "0        0.285132        -1.695647 -1.224796  1.527854  \n",
       "1        0.638387        -1.648511  0.816462 -0.654513  \n",
       "2        0.951270        -1.617087  0.816462 -0.654513  \n",
       "3       -0.047937        -1.585664  0.816462 -0.654513  \n",
       "4        0.002528        -1.554240  0.816462 -0.654513  \n",
       "...           ...              ...       ...       ...  \n",
       "9968    -1.057237        -1.475680 -1.224796  1.527854  \n",
       "9969    -0.825098        -1.428545 -1.224796 -0.654513  \n",
       "9970    -0.663610        -1.349985 -1.224796  1.527854  \n",
       "9971     0.860433        -1.302849 -1.224796 -0.654513  \n",
       "9972     0.022714        -1.224290 -1.224796  1.527854  \n",
       "\n",
       "[9973 rows x 7 columns]"
      ]
     },
     "execution_count": 34,
     "metadata": {},
     "output_type": "execute_result"
    }
   ],
   "source": [
    "scaler = StandardScaler()\n",
    "X_scaled = scaler.fit_transform(X)\n",
    "columns = list(X.columns)\n",
    "X_scaled = pd.DataFrame(X_scaled, columns=columns)\n",
    "X_scaled"
   ]
  },
  {
   "cell_type": "code",
   "execution_count": 35,
   "metadata": {},
   "outputs": [],
   "source": [
    "X_train, X_test, y_train, y_test = train_test_split(X_scaled, y, test_size = 0.20, stratify = y)"
   ]
  },
  {
   "cell_type": "code",
   "execution_count": 36,
   "metadata": {},
   "outputs": [
    {
     "name": "stdout",
     "output_type": "stream",
     "text": [
      "                   feature       vif\n",
      "0      Air temperature [K]  4.305412\n",
      "1  Process temperature [K]  4.303820\n",
      "2   Rotational speed [rpm]  5.901663\n",
      "3              Torque [Nm]  5.900314\n",
      "4          Tool wear [min]  1.000613\n",
      "5                   Type_L  2.779419\n",
      "6                   Type_M  2.778306\n"
     ]
    }
   ],
   "source": [
    "from statsmodels.stats.outliers_influence import variance_inflation_factor\n",
    "\n",
    "def calculate_vif(features):\n",
    "    vif = [variance_inflation_factor(X_train[features].values, i) for i in range(len(features))]\n",
    "    vif_data = pd.DataFrame()\n",
    "    vif_data['feature'] = features\n",
    "    vif_data['vif'] = vif\n",
    "    print(vif_data)\n",
    "\n",
    "features = X_train.columns.to_list()\n",
    "calculate_vif(features)"
   ]
  },
  {
   "cell_type": "code",
   "execution_count": null,
   "metadata": {},
   "outputs": [],
   "source": []
  },
  {
   "cell_type": "code",
   "execution_count": 37,
   "metadata": {},
   "outputs": [],
   "source": [
    "sampler = RandomOverSampler()\n",
    "X_sampled, y_sampled = sampler.fit_resample(X_train, y_train)"
   ]
  },
  {
   "cell_type": "code",
   "execution_count": 38,
   "metadata": {},
   "outputs": [
    {
     "name": "stdout",
     "output_type": "stream",
     "text": [
      "15428\n",
      "15428\n"
     ]
    }
   ],
   "source": [
    "print(len(X_sampled))\n",
    "print(len(y_sampled))"
   ]
  },
  {
   "cell_type": "code",
   "execution_count": 39,
   "metadata": {},
   "outputs": [],
   "source": [
    "logit_model = LogisticRegression()\n",
    "random_forest_model = RandomForestClassifier()\n",
    "gradient_boosting_model = GradientBoostingClassifier(n_estimators = 150)\n",
    "svm_model = SVC()"
   ]
  },
  {
   "cell_type": "code",
   "execution_count": 40,
   "metadata": {},
   "outputs": [
    {
     "name": "stdout",
     "output_type": "stream",
     "text": [
      "LogisticRegression()\n",
      "76.49122807017544\n",
      "76.39357013222711\n",
      "[[1473  456]\n",
      " [  13   53]]\n",
      "              precision    recall  f1-score   support\n",
      "\n",
      "           0       0.99      0.76      0.86      1929\n",
      "           1       0.10      0.80      0.18        66\n",
      "\n",
      "    accuracy                           0.76      1995\n",
      "   macro avg       0.55      0.78      0.52      1995\n",
      "weighted avg       0.96      0.76      0.84      1995\n",
      "\n"
     ]
    },
    {
     "data": {
      "image/png": "[encoded data removed]",
      "text/plain": [
       "<Figure size 576x432 with 1 Axes>"
      ]
     },
     "metadata": {},
     "output_type": "display_data"
    },
    {
     "name": "stdout",
     "output_type": "stream",
     "text": [
      "*************************************************\n",
      "RandomForestClassifier()\n",
      "98.74686716791979\n",
      "100.0\n",
      "[[1922    7]\n",
      " [  18   48]]\n",
      "              precision    recall  f1-score   support\n",
      "\n",
      "           0       0.99      1.00      0.99      1929\n",
      "           1       0.87      0.73      0.79        66\n",
      "\n",
      "    accuracy                           0.99      1995\n",
      "   macro avg       0.93      0.86      0.89      1995\n",
      "weighted avg       0.99      0.99      0.99      1995\n",
      "\n"
     ]
    },
    {
     "data": {
      "image/png": "[encoded data removed]",
      "text/plain": [
       "<Figure size 576x432 with 1 Axes>"
      ]
     },
     "metadata": {},
     "output_type": "display_data"
    },
    {
     "name": "stdout",
     "output_type": "stream",
     "text": [
      "*************************************************\n",
      "GradientBoostingClassifier(n_estimators=150)\n",
      "94.9874686716792\n",
      "97.65361680062225\n",
      "[[1836   93]\n",
      " [   7   59]]\n",
      "              precision    recall  f1-score   support\n",
      "\n",
      "           0       1.00      0.95      0.97      1929\n",
      "           1       0.39      0.89      0.54        66\n",
      "\n",
      "    accuracy                           0.95      1995\n",
      "   macro avg       0.69      0.92      0.76      1995\n",
      "weighted avg       0.98      0.95      0.96      1995\n",
      "\n"
     ]
    },
    {
     "data": {
      "image/png": "[encoded data removed]",
      "text/plain": [
       "<Figure size 576x432 with 1 Axes>"
      ]
     },
     "metadata": {},
     "output_type": "display_data"
    },
    {
     "name": "stdout",
     "output_type": "stream",
     "text": [
      "*************************************************\n",
      "SVC()\n",
      "90.92731829573934\n",
      "95.44334975369459\n",
      "[[1749  180]\n",
      " [   1   65]]\n",
      "              precision    recall  f1-score   support\n",
      "\n",
      "           0       1.00      0.91      0.95      1929\n",
      "           1       0.27      0.98      0.42        66\n",
      "\n",
      "    accuracy                           0.91      1995\n",
      "   macro avg       0.63      0.95      0.68      1995\n",
      "weighted avg       0.98      0.91      0.93      1995\n",
      "\n"
     ]
    },
    {
     "data": {
      "image/png": "[encoded data removed]",
      "text/plain": [
       "<Figure size 576x432 with 1 Axes>"
      ]
     },
     "metadata": {},
     "output_type": "display_data"
    },
    {
     "name": "stdout",
     "output_type": "stream",
     "text": [
      "*************************************************\n"
     ]
    }
   ],
   "source": [
    "models = [logit_model, random_forest_model, gradient_boosting_model, svm_model]\n",
    "for model in models:\n",
    "    model.fit(X_sampled, y_sampled)\n",
    "    y_train_pred = model.predict(X_sampled)\n",
    "    y_test_pred = model.predict(X_test)\n",
    "    accuracy_test = accuracy_score(y_test, y_test_pred)\n",
    "    accuracy_train = accuracy_score(y_sampled, y_train_pred)\n",
    "    report = classification_report(y_test, y_test_pred)\n",
    "    cm = confusion_matrix(y_test, y_test_pred)\n",
    "    print(model)\n",
    "    print(accuracy_test * 100)\n",
    "    print(accuracy_train * 100)\n",
    "    print(cm)\n",
    "    print(report)\n",
    "    fpr, tpr, thresholds = roc_curve(y_test, y_test_pred)\n",
    "    # Calculate AUC\n",
    "    roc_auc = auc(fpr, tpr)\n",
    "    # Plot ROC curve\n",
    "    plt.figure(figsize=(8, 6))\n",
    "    plt.plot(fpr, tpr, color='darkorange', lw=2, label=f'ROC curve (AUC = {roc_auc:.2f})')\n",
    "    plt.plot([0, 1], [0, 1], color='navy', lw=2, linestyle='--')\n",
    "    plt.xlim([0.0, 1.0])\n",
    "    plt.ylim([0.0, 1.05])\n",
    "    plt.xlabel('False Positive Rate')\n",
    "    plt.ylabel('True Positive Rate')\n",
    "    plt.title('Receiver Operating Characteristic (ROC) Curve')\n",
    "    plt.legend(loc='lower right')\n",
    "    plt.show()\n",
    "    print('*************************************************')"
   ]
  },
  {
   "cell_type": "code",
   "execution_count": 41,
   "metadata": {},
   "outputs": [
    {
     "name": "stdout",
     "output_type": "stream",
     "text": [
      "<function accuracy_score at 0x00000290852443A0>\n"
     ]
    }
   ],
   "source": [
    "accuracy_scores = []\n",
    "error_rate = []\n",
    "for k in range(1, 40):\n",
    "    knn = KNeighborsClassifier(n_neighbors = k, metric = 'minkowski', p = 2)\n",
    "    knn.fit(X_sampled, y_sampled)\n",
    "    accuracy_scores.append(accuracy_score(y_test, knn.predict(X_test)))\n",
    "print(accuracy_score)"
   ]
  },
  {
   "cell_type": "code",
   "execution_count": 42,
   "metadata": {},
   "outputs": [
    {
     "data": {
      "image/png": "[encoded data removed]",
      "text/plain": [
       "<Figure size 720x720 with 1 Axes>"
      ]
     },
     "metadata": {},
     "output_type": "display_data"
    }
   ],
   "source": [
    "plt.figure(figsize = (10, 10))\n",
    "plt.plot(range(1, 40), accuracy_scores, marker = 'o', markersize = 10)\n",
    "plt.xlabel('K values')\n",
    "plt.ylabel('accuracy scores')\n",
    "plt.show()"
   ]
  },
  {
   "cell_type": "code",
   "execution_count": 43,
   "metadata": {},
   "outputs": [],
   "source": [
    "from sklearn.model_selection import RandomizedSearchCV"
   ]
  },
  {
   "cell_type": "code",
   "execution_count": 44,
   "metadata": {},
   "outputs": [],
   "source": [
    "n_neighbors = np.arange(3, 50, step = 2)\n",
    "algorithm=[\"auto\",\"ball_tree\",\"kd_tree\",\"brute\"]\n",
    "p=np.arange(1,3)"
   ]
  },
  {
   "cell_type": "code",
   "execution_count": 45,
   "metadata": {},
   "outputs": [],
   "source": [
    "knn_param = {\"n_neighbors\": n_neighbors, \"algorithm\": algorithm, 'p': p}"
   ]
  },
  {
   "cell_type": "code",
   "execution_count": 46,
   "metadata": {},
   "outputs": [
    {
     "data": {
      "text/plain": [
       "{'n_neighbors': array([ 3,  5,  7,  9, 11, 13, 15, 17, 19, 21, 23, 25, 27, 29, 31, 33, 35,\n",
       "        37, 39, 41, 43, 45, 47, 49]),\n",
       " 'algorithm': ['auto', 'ball_tree', 'kd_tree', 'brute'],\n",
       " 'p': array([1, 2])}"
      ]
     },
     "execution_count": 46,
     "metadata": {},
     "output_type": "execute_result"
    }
   ],
   "source": [
    "knn_param"
   ]
  },
  {
   "cell_type": "code",
   "execution_count": 47,
   "metadata": {},
   "outputs": [],
   "source": [
    "random_cv = RandomizedSearchCV(knn, knn_param, cv = 10, n_jobs = -1)"
   ]
  },
  {
   "cell_type": "code",
   "execution_count": 48,
   "metadata": {},
   "outputs": [
    {
     "name": "stdout",
     "output_type": "stream",
     "text": [
      "the best parameter combination {'p': 1, 'n_neighbors': 5, 'algorithm': 'ball_tree'}\n"
     ]
    }
   ],
   "source": [
    "random_cv.fit(X_sampled, y_sampled)\n",
    "print(\"the best parameter combination\",random_cv.best_params_)"
   ]
  },
  {
   "cell_type": "code",
   "execution_count": 49,
   "metadata": {},
   "outputs": [
    {
     "name": "stdout",
     "output_type": "stream",
     "text": [
      "the best score  0.9810084537255822\n"
     ]
    }
   ],
   "source": [
    "print(\"the best score \",random_cv.best_score_)"
   ]
  },
  {
   "cell_type": "code",
   "execution_count": 50,
   "metadata": {},
   "outputs": [],
   "source": [
    "knn_model = KNeighborsClassifier(p = 1, n_neighbors = 7, algorithm = 'kd_tree', metric = 'minkowski')"
   ]
  },
  {
   "cell_type": "code",
   "execution_count": 51,
   "metadata": {},
   "outputs": [
    {
     "data": {
      "text/html": [
       "<style>#sk-container-id-1 {color: black;background-color: white;}#sk-container-id-1 pre{padding: 0;}#sk-container-id-1 div.sk-toggleable {background-color: white;}#sk-container-id-1 label.sk-toggleable__label {cursor: pointer;display: block;width: 100%;margin-bottom: 0;padding: 0.3em;box-sizing: border-box;text-align: center;}#sk-container-id-1 label.sk-toggleable__label-arrow:before {content: \"▸\";float: left;margin-right: 0.25em;color: #696969;}#sk-container-id-1 label.sk-toggleable__label-arrow:hover:before {color: black;}#sk-container-id-1 div.sk-estimator:hover label.sk-toggleable__label-arrow:before {color: black;}#sk-container-id-1 div.sk-toggleable__content {max-height: 0;max-width: 0;overflow: hidden;text-align: left;background-color: #f0f8ff;}#sk-container-id-1 div.sk-toggleable__content pre {margin: 0.2em;color: black;border-radius: 0.25em;background-color: #f0f8ff;}#sk-container-id-1 input.sk-toggleable__control:checked~div.sk-toggleable__content {max-height: 200px;max-width: 100%;overflow: auto;}#sk-container-id-1 input.sk-toggleable__control:checked~label.sk-toggleable__label-arrow:before {content: \"▾\";}#sk-container-id-1 div.sk-estimator input.sk-toggleable__control:checked~label.sk-toggleable__label {background-color: #d4ebff;}#sk-container-id-1 div.sk-label input.sk-toggleable__control:checked~label.sk-toggleable__label {background-color: #d4ebff;}#sk-container-id-1 input.sk-hidden--visually {border: 0;clip: rect(1px 1px 1px 1px);clip: rect(1px, 1px, 1px, 1px);height: 1px;margin: -1px;overflow: hidden;padding: 0;position: absolute;width: 1px;}#sk-container-id-1 div.sk-estimator {font-family: monospace;background-color: #f0f8ff;border: 1px dotted black;border-radius: 0.25em;box-sizing: border-box;margin-bottom: 0.5em;}#sk-container-id-1 div.sk-estimator:hover {background-color: #d4ebff;}#sk-container-id-1 div.sk-parallel-item::after {content: \"\";width: 100%;border-bottom: 1px solid gray;flex-grow: 1;}#sk-container-id-1 div.sk-label:hover label.sk-toggleable__label {background-color: #d4ebff;}#sk-container-id-1 div.sk-serial::before {content: \"\";position: absolute;border-left: 1px solid gray;box-sizing: border-box;top: 0;bottom: 0;left: 50%;z-index: 0;}#sk-container-id-1 div.sk-serial {display: flex;flex-direction: column;align-items: center;background-color: white;padding-right: 0.2em;padding-left: 0.2em;position: relative;}#sk-container-id-1 div.sk-item {position: relative;z-index: 1;}#sk-container-id-1 div.sk-parallel {display: flex;align-items: stretch;justify-content: center;background-color: white;position: relative;}#sk-container-id-1 div.sk-item::before, #sk-container-id-1 div.sk-parallel-item::before {content: \"\";position: absolute;border-left: 1px solid gray;box-sizing: border-box;top: 0;bottom: 0;left: 50%;z-index: -1;}#sk-container-id-1 div.sk-parallel-item {display: flex;flex-direction: column;z-index: 1;position: relative;background-color: white;}#sk-container-id-1 div.sk-parallel-item:first-child::after {align-self: flex-end;width: 50%;}#sk-container-id-1 div.sk-parallel-item:last-child::after {align-self: flex-start;width: 50%;}#sk-container-id-1 div.sk-parallel-item:only-child::after {width: 0;}#sk-container-id-1 div.sk-dashed-wrapped {border: 1px dashed gray;margin: 0 0.4em 0.5em 0.4em;box-sizing: border-box;padding-bottom: 0.4em;background-color: white;}#sk-container-id-1 div.sk-label label {font-family: monospace;font-weight: bold;display: inline-block;line-height: 1.2em;}#sk-container-id-1 div.sk-label-container {text-align: center;}#sk-container-id-1 div.sk-container {/* jupyter's `normalize.less` sets `[hidden] { display: none; }` but bootstrap.min.css set `[hidden] { display: none !important; }` so we also need the `!important` here to be able to override the default hidden behavior on the sphinx rendered scikit-learn.org. See: https://github.com/scikit-learn/scikit-learn/issues/21755 */display: inline-block !important;position: relative;}#sk-container-id-1 div.sk-text-repr-fallback {display: none;}</style><div id=\"sk-container-id-1\" class=\"sk-top-container\"><div class=\"sk-text-repr-fallback\"><pre>KNeighborsClassifier(algorithm=&#x27;kd_tree&#x27;, n_neighbors=7, p=1)</pre><b>In a Jupyter environment, please rerun this cell to show the HTML representation or trust the notebook. <br />On GitHub, the HTML representation is unable to render, please try loading this page with nbviewer.org.</b></div><div class=\"sk-container\" hidden><div class=\"sk-item\"><div class=\"sk-estimator sk-toggleable\"><input class=\"sk-toggleable__control sk-hidden--visually\" id=\"sk-estimator-id-1\" type=\"checkbox\" checked><label for=\"sk-estimator-id-1\" class=\"sk-toggleable__label sk-toggleable__label-arrow\">KNeighborsClassifier</label><div class=\"sk-toggleable__content\"><pre>KNeighborsClassifier(algorithm=&#x27;kd_tree&#x27;, n_neighbors=7, p=1)</pre></div></div></div></div></div>"
      ],
      "text/plain": [
       "KNeighborsClassifier(algorithm='kd_tree', n_neighbors=7, p=1)"
      ]
     },
     "execution_count": 51,
     "metadata": {},
     "output_type": "execute_result"
    }
   ],
   "source": [
    "knn_model.fit(X_sampled, y_sampled)"
   ]
  },
  {
   "cell_type": "code",
   "execution_count": 52,
   "metadata": {},
   "outputs": [],
   "source": [
    "y_test_pred = knn_model.predict(X_test)"
   ]
  },
  {
   "cell_type": "code",
   "execution_count": 53,
   "metadata": {},
   "outputs": [
    {
     "name": "stdout",
     "output_type": "stream",
     "text": [
      "94.58646616541353\n",
      "[[1839   90]\n",
      " [  18   48]]\n",
      "              precision    recall  f1-score   support\n",
      "\n",
      "           0       0.99      0.95      0.97      1929\n",
      "           1       0.35      0.73      0.47        66\n",
      "\n",
      "    accuracy                           0.95      1995\n",
      "   macro avg       0.67      0.84      0.72      1995\n",
      "weighted avg       0.97      0.95      0.95      1995\n",
      "\n"
     ]
    }
   ],
   "source": [
    "print(accuracy_score(y_test, y_test_pred) * 100)\n",
    "print(confusion_matrix(y_test, y_test_pred))\n",
    "print(classification_report(y_test, y_test_pred))"
   ]
  },
  {
   "cell_type": "markdown",
   "metadata": {},
   "source": [
    "# Multi class classification"
   ]
  },
  {
   "cell_type": "code",
   "execution_count": 54,
   "metadata": {},
   "outputs": [
    {
     "data": {
      "text/html": [
       "<div>\n",
       "<style scoped>\n",
       "    .dataframe tbody tr th:only-of-type {\n",
       "        vertical-align: middle;\n",
       "    }\n",
       "\n",
       "    .dataframe tbody tr th {\n",
       "        vertical-align: top;\n",
       "    }\n",
       "\n",
       "    .dataframe thead th {\n",
       "        text-align: right;\n",
       "    }\n",
       "</style>\n",
       "<table border=\"1\" class=\"dataframe\">\n",
       "  <thead>\n",
       "    <tr style=\"text-align: right;\">\n",
       "      <th></th>\n",
       "      <th>Type</th>\n",
       "      <th>Air temperature [K]</th>\n",
       "      <th>Process temperature [K]</th>\n",
       "      <th>Rotational speed [rpm]</th>\n",
       "      <th>Torque [Nm]</th>\n",
       "      <th>Tool wear [min]</th>\n",
       "      <th>Target</th>\n",
       "      <th>Failure Type</th>\n",
       "    </tr>\n",
       "  </thead>\n",
       "  <tbody>\n",
       "    <tr>\n",
       "      <th>0</th>\n",
       "      <td>M</td>\n",
       "      <td>298.1</td>\n",
       "      <td>308.6</td>\n",
       "      <td>1551.0</td>\n",
       "      <td>42.8</td>\n",
       "      <td>0.0</td>\n",
       "      <td>0</td>\n",
       "      <td>No Failure</td>\n",
       "    </tr>\n",
       "    <tr>\n",
       "      <th>1</th>\n",
       "      <td>L</td>\n",
       "      <td>298.2</td>\n",
       "      <td>308.7</td>\n",
       "      <td>1408.0</td>\n",
       "      <td>46.3</td>\n",
       "      <td>3.0</td>\n",
       "      <td>0</td>\n",
       "      <td>No Failure</td>\n",
       "    </tr>\n",
       "    <tr>\n",
       "      <th>2</th>\n",
       "      <td>L</td>\n",
       "      <td>298.1</td>\n",
       "      <td>308.5</td>\n",
       "      <td>1498.0</td>\n",
       "      <td>49.4</td>\n",
       "      <td>5.0</td>\n",
       "      <td>0</td>\n",
       "      <td>No Failure</td>\n",
       "    </tr>\n",
       "    <tr>\n",
       "      <th>3</th>\n",
       "      <td>L</td>\n",
       "      <td>298.2</td>\n",
       "      <td>308.6</td>\n",
       "      <td>1433.0</td>\n",
       "      <td>39.5</td>\n",
       "      <td>7.0</td>\n",
       "      <td>0</td>\n",
       "      <td>No Failure</td>\n",
       "    </tr>\n",
       "    <tr>\n",
       "      <th>4</th>\n",
       "      <td>L</td>\n",
       "      <td>298.2</td>\n",
       "      <td>308.7</td>\n",
       "      <td>1408.0</td>\n",
       "      <td>40.0</td>\n",
       "      <td>9.0</td>\n",
       "      <td>0</td>\n",
       "      <td>No Failure</td>\n",
       "    </tr>\n",
       "  </tbody>\n",
       "</table>\n",
       "</div>"
      ],
      "text/plain": [
       "  Type  Air temperature [K]  Process temperature [K]  Rotational speed [rpm]  \\\n",
       "0    M                298.1                    308.6                  1551.0   \n",
       "1    L                298.2                    308.7                  1408.0   \n",
       "2    L                298.1                    308.5                  1498.0   \n",
       "3    L                298.2                    308.6                  1433.0   \n",
       "4    L                298.2                    308.7                  1408.0   \n",
       "\n",
       "   Torque [Nm]  Tool wear [min]  Target Failure Type  \n",
       "0         42.8              0.0       0   No Failure  \n",
       "1         46.3              3.0       0   No Failure  \n",
       "2         49.4              5.0       0   No Failure  \n",
       "3         39.5              7.0       0   No Failure  \n",
       "4         40.0              9.0       0   No Failure  "
      ]
     },
     "execution_count": 54,
     "metadata": {},
     "output_type": "execute_result"
    }
   ],
   "source": [
    "data.head()"
   ]
  },
  {
   "cell_type": "code",
   "execution_count": 55,
   "metadata": {},
   "outputs": [],
   "source": [
    "df = data.copy()\n",
    "df.drop(['Failure Type'], axis = 1, inplace = True)"
   ]
  },
  {
   "cell_type": "code",
   "execution_count": 56,
   "metadata": {},
   "outputs": [],
   "source": [
    "df = pd.get_dummies(df, drop_first = True)"
   ]
  },
  {
   "cell_type": "code",
   "execution_count": 57,
   "metadata": {},
   "outputs": [
    {
     "data": {
      "text/html": [
       "<div>\n",
       "<style scoped>\n",
       "    .dataframe tbody tr th:only-of-type {\n",
       "        vertical-align: middle;\n",
       "    }\n",
       "\n",
       "    .dataframe tbody tr th {\n",
       "        vertical-align: top;\n",
       "    }\n",
       "\n",
       "    .dataframe thead th {\n",
       "        text-align: right;\n",
       "    }\n",
       "</style>\n",
       "<table border=\"1\" class=\"dataframe\">\n",
       "  <thead>\n",
       "    <tr style=\"text-align: right;\">\n",
       "      <th></th>\n",
       "      <th>Air temperature [K]</th>\n",
       "      <th>Process temperature [K]</th>\n",
       "      <th>Rotational speed [rpm]</th>\n",
       "      <th>Torque [Nm]</th>\n",
       "      <th>Tool wear [min]</th>\n",
       "      <th>Target</th>\n",
       "      <th>Type_L</th>\n",
       "      <th>Type_M</th>\n",
       "    </tr>\n",
       "  </thead>\n",
       "  <tbody>\n",
       "    <tr>\n",
       "      <th>0</th>\n",
       "      <td>298.1</td>\n",
       "      <td>308.6</td>\n",
       "      <td>1551.0</td>\n",
       "      <td>42.8</td>\n",
       "      <td>0.0</td>\n",
       "      <td>0</td>\n",
       "      <td>0</td>\n",
       "      <td>1</td>\n",
       "    </tr>\n",
       "    <tr>\n",
       "      <th>1</th>\n",
       "      <td>298.2</td>\n",
       "      <td>308.7</td>\n",
       "      <td>1408.0</td>\n",
       "      <td>46.3</td>\n",
       "      <td>3.0</td>\n",
       "      <td>0</td>\n",
       "      <td>1</td>\n",
       "      <td>0</td>\n",
       "    </tr>\n",
       "    <tr>\n",
       "      <th>2</th>\n",
       "      <td>298.1</td>\n",
       "      <td>308.5</td>\n",
       "      <td>1498.0</td>\n",
       "      <td>49.4</td>\n",
       "      <td>5.0</td>\n",
       "      <td>0</td>\n",
       "      <td>1</td>\n",
       "      <td>0</td>\n",
       "    </tr>\n",
       "    <tr>\n",
       "      <th>3</th>\n",
       "      <td>298.2</td>\n",
       "      <td>308.6</td>\n",
       "      <td>1433.0</td>\n",
       "      <td>39.5</td>\n",
       "      <td>7.0</td>\n",
       "      <td>0</td>\n",
       "      <td>1</td>\n",
       "      <td>0</td>\n",
       "    </tr>\n",
       "    <tr>\n",
       "      <th>4</th>\n",
       "      <td>298.2</td>\n",
       "      <td>308.7</td>\n",
       "      <td>1408.0</td>\n",
       "      <td>40.0</td>\n",
       "      <td>9.0</td>\n",
       "      <td>0</td>\n",
       "      <td>1</td>\n",
       "      <td>0</td>\n",
       "    </tr>\n",
       "    <tr>\n",
       "      <th>...</th>\n",
       "      <td>...</td>\n",
       "      <td>...</td>\n",
       "      <td>...</td>\n",
       "      <td>...</td>\n",
       "      <td>...</td>\n",
       "      <td>...</td>\n",
       "      <td>...</td>\n",
       "      <td>...</td>\n",
       "    </tr>\n",
       "    <tr>\n",
       "      <th>9995</th>\n",
       "      <td>298.8</td>\n",
       "      <td>308.4</td>\n",
       "      <td>1604.0</td>\n",
       "      <td>29.5</td>\n",
       "      <td>14.0</td>\n",
       "      <td>0</td>\n",
       "      <td>0</td>\n",
       "      <td>1</td>\n",
       "    </tr>\n",
       "    <tr>\n",
       "      <th>9996</th>\n",
       "      <td>298.9</td>\n",
       "      <td>308.4</td>\n",
       "      <td>1632.0</td>\n",
       "      <td>31.8</td>\n",
       "      <td>17.0</td>\n",
       "      <td>0</td>\n",
       "      <td>0</td>\n",
       "      <td>0</td>\n",
       "    </tr>\n",
       "    <tr>\n",
       "      <th>9997</th>\n",
       "      <td>299.0</td>\n",
       "      <td>308.6</td>\n",
       "      <td>1645.0</td>\n",
       "      <td>33.4</td>\n",
       "      <td>22.0</td>\n",
       "      <td>0</td>\n",
       "      <td>0</td>\n",
       "      <td>1</td>\n",
       "    </tr>\n",
       "    <tr>\n",
       "      <th>9998</th>\n",
       "      <td>299.0</td>\n",
       "      <td>308.7</td>\n",
       "      <td>1408.0</td>\n",
       "      <td>48.5</td>\n",
       "      <td>25.0</td>\n",
       "      <td>0</td>\n",
       "      <td>0</td>\n",
       "      <td>0</td>\n",
       "    </tr>\n",
       "    <tr>\n",
       "      <th>9999</th>\n",
       "      <td>299.0</td>\n",
       "      <td>308.7</td>\n",
       "      <td>1500.0</td>\n",
       "      <td>40.2</td>\n",
       "      <td>30.0</td>\n",
       "      <td>0</td>\n",
       "      <td>0</td>\n",
       "      <td>1</td>\n",
       "    </tr>\n",
       "  </tbody>\n",
       "</table>\n",
       "<p>9973 rows × 8 columns</p>\n",
       "</div>"
      ],
      "text/plain": [
       "      Air temperature [K]  Process temperature [K]  Rotational speed [rpm]  \\\n",
       "0                   298.1                    308.6                  1551.0   \n",
       "1                   298.2                    308.7                  1408.0   \n",
       "2                   298.1                    308.5                  1498.0   \n",
       "3                   298.2                    308.6                  1433.0   \n",
       "4                   298.2                    308.7                  1408.0   \n",
       "...                   ...                      ...                     ...   \n",
       "9995                298.8                    308.4                  1604.0   \n",
       "9996                298.9                    308.4                  1632.0   \n",
       "9997                299.0                    308.6                  1645.0   \n",
       "9998                299.0                    308.7                  1408.0   \n",
       "9999                299.0                    308.7                  1500.0   \n",
       "\n",
       "      Torque [Nm]  Tool wear [min]  Target  Type_L  Type_M  \n",
       "0            42.8              0.0       0       0       1  \n",
       "1            46.3              3.0       0       1       0  \n",
       "2            49.4              5.0       0       1       0  \n",
       "3            39.5              7.0       0       1       0  \n",
       "4            40.0              9.0       0       1       0  \n",
       "...           ...              ...     ...     ...     ...  \n",
       "9995         29.5             14.0       0       0       1  \n",
       "9996         31.8             17.0       0       0       0  \n",
       "9997         33.4             22.0       0       0       1  \n",
       "9998         48.5             25.0       0       0       0  \n",
       "9999         40.2             30.0       0       0       1  \n",
       "\n",
       "[9973 rows x 8 columns]"
      ]
     },
     "execution_count": 57,
     "metadata": {},
     "output_type": "execute_result"
    }
   ],
   "source": [
    "df"
   ]
  },
  {
   "cell_type": "code",
   "execution_count": 58,
   "metadata": {},
   "outputs": [],
   "source": [
    "X1 = df"
   ]
  },
  {
   "cell_type": "code",
   "execution_count": 59,
   "metadata": {},
   "outputs": [],
   "source": [
    "y1 = data[['Failure Type']]"
   ]
  },
  {
   "cell_type": "code",
   "execution_count": 60,
   "metadata": {},
   "outputs": [
    {
     "data": {
      "text/plain": [
       "Failure Type            \n",
       "No Failure                  9643\n",
       "Heat Dissipation Failure     112\n",
       "Power Failure                 95\n",
       "Overstrain Failure            78\n",
       "Tool Wear Failure             45\n",
       "dtype: int64"
      ]
     },
     "execution_count": 60,
     "metadata": {},
     "output_type": "execute_result"
    }
   ],
   "source": [
    "y1.value_counts()"
   ]
  },
  {
   "cell_type": "code",
   "execution_count": 61,
   "metadata": {},
   "outputs": [],
   "source": [
    "mapping = {\n",
    "    'No Failure':0,\n",
    "    'Heat Dissipation Failure': 1,\n",
    "    'Power Failure': 2,\n",
    "    'Overstrain Failure': 3,\n",
    "    'Tool Wear Failure': 4\n",
    "}"
   ]
  },
  {
   "cell_type": "code",
   "execution_count": 62,
   "metadata": {},
   "outputs": [],
   "source": [
    "y1['Failure Type'] = y1['Failure Type'].map(mapping)"
   ]
  },
  {
   "cell_type": "code",
   "execution_count": 63,
   "metadata": {},
   "outputs": [
    {
     "data": {
      "text/html": [
       "<div>\n",
       "<style scoped>\n",
       "    .dataframe tbody tr th:only-of-type {\n",
       "        vertical-align: middle;\n",
       "    }\n",
       "\n",
       "    .dataframe tbody tr th {\n",
       "        vertical-align: top;\n",
       "    }\n",
       "\n",
       "    .dataframe thead th {\n",
       "        text-align: right;\n",
       "    }\n",
       "</style>\n",
       "<table border=\"1\" class=\"dataframe\">\n",
       "  <thead>\n",
       "    <tr style=\"text-align: right;\">\n",
       "      <th></th>\n",
       "      <th>Air temperature [K]</th>\n",
       "      <th>Process temperature [K]</th>\n",
       "      <th>Rotational speed [rpm]</th>\n",
       "      <th>Torque [Nm]</th>\n",
       "      <th>Tool wear [min]</th>\n",
       "      <th>Target</th>\n",
       "      <th>Type_L</th>\n",
       "      <th>Type_M</th>\n",
       "    </tr>\n",
       "  </thead>\n",
       "  <tbody>\n",
       "    <tr>\n",
       "      <th>0</th>\n",
       "      <td>298.1</td>\n",
       "      <td>308.6</td>\n",
       "      <td>1551.0</td>\n",
       "      <td>42.8</td>\n",
       "      <td>0.0</td>\n",
       "      <td>0</td>\n",
       "      <td>0</td>\n",
       "      <td>1</td>\n",
       "    </tr>\n",
       "    <tr>\n",
       "      <th>1</th>\n",
       "      <td>298.2</td>\n",
       "      <td>308.7</td>\n",
       "      <td>1408.0</td>\n",
       "      <td>46.3</td>\n",
       "      <td>3.0</td>\n",
       "      <td>0</td>\n",
       "      <td>1</td>\n",
       "      <td>0</td>\n",
       "    </tr>\n",
       "    <tr>\n",
       "      <th>2</th>\n",
       "      <td>298.1</td>\n",
       "      <td>308.5</td>\n",
       "      <td>1498.0</td>\n",
       "      <td>49.4</td>\n",
       "      <td>5.0</td>\n",
       "      <td>0</td>\n",
       "      <td>1</td>\n",
       "      <td>0</td>\n",
       "    </tr>\n",
       "    <tr>\n",
       "      <th>3</th>\n",
       "      <td>298.2</td>\n",
       "      <td>308.6</td>\n",
       "      <td>1433.0</td>\n",
       "      <td>39.5</td>\n",
       "      <td>7.0</td>\n",
       "      <td>0</td>\n",
       "      <td>1</td>\n",
       "      <td>0</td>\n",
       "    </tr>\n",
       "    <tr>\n",
       "      <th>4</th>\n",
       "      <td>298.2</td>\n",
       "      <td>308.7</td>\n",
       "      <td>1408.0</td>\n",
       "      <td>40.0</td>\n",
       "      <td>9.0</td>\n",
       "      <td>0</td>\n",
       "      <td>1</td>\n",
       "      <td>0</td>\n",
       "    </tr>\n",
       "    <tr>\n",
       "      <th>...</th>\n",
       "      <td>...</td>\n",
       "      <td>...</td>\n",
       "      <td>...</td>\n",
       "      <td>...</td>\n",
       "      <td>...</td>\n",
       "      <td>...</td>\n",
       "      <td>...</td>\n",
       "      <td>...</td>\n",
       "    </tr>\n",
       "    <tr>\n",
       "      <th>9995</th>\n",
       "      <td>298.8</td>\n",
       "      <td>308.4</td>\n",
       "      <td>1604.0</td>\n",
       "      <td>29.5</td>\n",
       "      <td>14.0</td>\n",
       "      <td>0</td>\n",
       "      <td>0</td>\n",
       "      <td>1</td>\n",
       "    </tr>\n",
       "    <tr>\n",
       "      <th>9996</th>\n",
       "      <td>298.9</td>\n",
       "      <td>308.4</td>\n",
       "      <td>1632.0</td>\n",
       "      <td>31.8</td>\n",
       "      <td>17.0</td>\n",
       "      <td>0</td>\n",
       "      <td>0</td>\n",
       "      <td>0</td>\n",
       "    </tr>\n",
       "    <tr>\n",
       "      <th>9997</th>\n",
       "      <td>299.0</td>\n",
       "      <td>308.6</td>\n",
       "      <td>1645.0</td>\n",
       "      <td>33.4</td>\n",
       "      <td>22.0</td>\n",
       "      <td>0</td>\n",
       "      <td>0</td>\n",
       "      <td>1</td>\n",
       "    </tr>\n",
       "    <tr>\n",
       "      <th>9998</th>\n",
       "      <td>299.0</td>\n",
       "      <td>308.7</td>\n",
       "      <td>1408.0</td>\n",
       "      <td>48.5</td>\n",
       "      <td>25.0</td>\n",
       "      <td>0</td>\n",
       "      <td>0</td>\n",
       "      <td>0</td>\n",
       "    </tr>\n",
       "    <tr>\n",
       "      <th>9999</th>\n",
       "      <td>299.0</td>\n",
       "      <td>308.7</td>\n",
       "      <td>1500.0</td>\n",
       "      <td>40.2</td>\n",
       "      <td>30.0</td>\n",
       "      <td>0</td>\n",
       "      <td>0</td>\n",
       "      <td>1</td>\n",
       "    </tr>\n",
       "  </tbody>\n",
       "</table>\n",
       "<p>9973 rows × 8 columns</p>\n",
       "</div>"
      ],
      "text/plain": [
       "      Air temperature [K]  Process temperature [K]  Rotational speed [rpm]  \\\n",
       "0                   298.1                    308.6                  1551.0   \n",
       "1                   298.2                    308.7                  1408.0   \n",
       "2                   298.1                    308.5                  1498.0   \n",
       "3                   298.2                    308.6                  1433.0   \n",
       "4                   298.2                    308.7                  1408.0   \n",
       "...                   ...                      ...                     ...   \n",
       "9995                298.8                    308.4                  1604.0   \n",
       "9996                298.9                    308.4                  1632.0   \n",
       "9997                299.0                    308.6                  1645.0   \n",
       "9998                299.0                    308.7                  1408.0   \n",
       "9999                299.0                    308.7                  1500.0   \n",
       "\n",
       "      Torque [Nm]  Tool wear [min]  Target  Type_L  Type_M  \n",
       "0            42.8              0.0       0       0       1  \n",
       "1            46.3              3.0       0       1       0  \n",
       "2            49.4              5.0       0       1       0  \n",
       "3            39.5              7.0       0       1       0  \n",
       "4            40.0              9.0       0       1       0  \n",
       "...           ...              ...     ...     ...     ...  \n",
       "9995         29.5             14.0       0       0       1  \n",
       "9996         31.8             17.0       0       0       0  \n",
       "9997         33.4             22.0       0       0       1  \n",
       "9998         48.5             25.0       0       0       0  \n",
       "9999         40.2             30.0       0       0       1  \n",
       "\n",
       "[9973 rows x 8 columns]"
      ]
     },
     "execution_count": 63,
     "metadata": {},
     "output_type": "execute_result"
    }
   ],
   "source": [
    "X1"
   ]
  },
  {
   "cell_type": "code",
   "execution_count": 64,
   "metadata": {},
   "outputs": [
    {
     "data": {
      "text/html": [
       "<div>\n",
       "<style scoped>\n",
       "    .dataframe tbody tr th:only-of-type {\n",
       "        vertical-align: middle;\n",
       "    }\n",
       "\n",
       "    .dataframe tbody tr th {\n",
       "        vertical-align: top;\n",
       "    }\n",
       "\n",
       "    .dataframe thead th {\n",
       "        text-align: right;\n",
       "    }\n",
       "</style>\n",
       "<table border=\"1\" class=\"dataframe\">\n",
       "  <thead>\n",
       "    <tr style=\"text-align: right;\">\n",
       "      <th></th>\n",
       "      <th>Failure Type</th>\n",
       "    </tr>\n",
       "  </thead>\n",
       "  <tbody>\n",
       "    <tr>\n",
       "      <th>0</th>\n",
       "      <td>0</td>\n",
       "    </tr>\n",
       "    <tr>\n",
       "      <th>1</th>\n",
       "      <td>0</td>\n",
       "    </tr>\n",
       "    <tr>\n",
       "      <th>2</th>\n",
       "      <td>0</td>\n",
       "    </tr>\n",
       "    <tr>\n",
       "      <th>3</th>\n",
       "      <td>0</td>\n",
       "    </tr>\n",
       "    <tr>\n",
       "      <th>4</th>\n",
       "      <td>0</td>\n",
       "    </tr>\n",
       "    <tr>\n",
       "      <th>...</th>\n",
       "      <td>...</td>\n",
       "    </tr>\n",
       "    <tr>\n",
       "      <th>9995</th>\n",
       "      <td>0</td>\n",
       "    </tr>\n",
       "    <tr>\n",
       "      <th>9996</th>\n",
       "      <td>0</td>\n",
       "    </tr>\n",
       "    <tr>\n",
       "      <th>9997</th>\n",
       "      <td>0</td>\n",
       "    </tr>\n",
       "    <tr>\n",
       "      <th>9998</th>\n",
       "      <td>0</td>\n",
       "    </tr>\n",
       "    <tr>\n",
       "      <th>9999</th>\n",
       "      <td>0</td>\n",
       "    </tr>\n",
       "  </tbody>\n",
       "</table>\n",
       "<p>9973 rows × 1 columns</p>\n",
       "</div>"
      ],
      "text/plain": [
       "      Failure Type\n",
       "0                0\n",
       "1                0\n",
       "2                0\n",
       "3                0\n",
       "4                0\n",
       "...            ...\n",
       "9995             0\n",
       "9996             0\n",
       "9997             0\n",
       "9998             0\n",
       "9999             0\n",
       "\n",
       "[9973 rows x 1 columns]"
      ]
     },
     "execution_count": 64,
     "metadata": {},
     "output_type": "execute_result"
    }
   ],
   "source": [
    "y1"
   ]
  },
  {
   "cell_type": "code",
   "execution_count": 65,
   "metadata": {},
   "outputs": [
    {
     "data": {
      "text/html": [
       "<div>\n",
       "<style scoped>\n",
       "    .dataframe tbody tr th:only-of-type {\n",
       "        vertical-align: middle;\n",
       "    }\n",
       "\n",
       "    .dataframe tbody tr th {\n",
       "        vertical-align: top;\n",
       "    }\n",
       "\n",
       "    .dataframe thead th {\n",
       "        text-align: right;\n",
       "    }\n",
       "</style>\n",
       "<table border=\"1\" class=\"dataframe\">\n",
       "  <thead>\n",
       "    <tr style=\"text-align: right;\">\n",
       "      <th></th>\n",
       "      <th>Air temperature [K]</th>\n",
       "      <th>Process temperature [K]</th>\n",
       "      <th>Rotational speed [rpm]</th>\n",
       "      <th>Torque [Nm]</th>\n",
       "      <th>Tool wear [min]</th>\n",
       "      <th>Target</th>\n",
       "      <th>Type_L</th>\n",
       "      <th>Type_M</th>\n",
       "    </tr>\n",
       "  </thead>\n",
       "  <tbody>\n",
       "    <tr>\n",
       "      <th>0</th>\n",
       "      <td>-0.951417</td>\n",
       "      <td>-0.946356</td>\n",
       "      <td>0.139485</td>\n",
       "      <td>0.285132</td>\n",
       "      <td>-1.695647</td>\n",
       "      <td>-0.184991</td>\n",
       "      <td>-1.224796</td>\n",
       "      <td>1.527854</td>\n",
       "    </tr>\n",
       "    <tr>\n",
       "      <th>1</th>\n",
       "      <td>-0.901428</td>\n",
       "      <td>-0.878954</td>\n",
       "      <td>-0.821146</td>\n",
       "      <td>0.638387</td>\n",
       "      <td>-1.648511</td>\n",
       "      <td>-0.184991</td>\n",
       "      <td>0.816462</td>\n",
       "      <td>-0.654513</td>\n",
       "    </tr>\n",
       "    <tr>\n",
       "      <th>2</th>\n",
       "      <td>-0.951417</td>\n",
       "      <td>-1.013759</td>\n",
       "      <td>-0.216553</td>\n",
       "      <td>0.951270</td>\n",
       "      <td>-1.617087</td>\n",
       "      <td>-0.184991</td>\n",
       "      <td>0.816462</td>\n",
       "      <td>-0.654513</td>\n",
       "    </tr>\n",
       "    <tr>\n",
       "      <th>3</th>\n",
       "      <td>-0.901428</td>\n",
       "      <td>-0.946356</td>\n",
       "      <td>-0.653204</td>\n",
       "      <td>-0.047937</td>\n",
       "      <td>-1.585664</td>\n",
       "      <td>-0.184991</td>\n",
       "      <td>0.816462</td>\n",
       "      <td>-0.654513</td>\n",
       "    </tr>\n",
       "    <tr>\n",
       "      <th>4</th>\n",
       "      <td>-0.901428</td>\n",
       "      <td>-0.878954</td>\n",
       "      <td>-0.821146</td>\n",
       "      <td>0.002528</td>\n",
       "      <td>-1.554240</td>\n",
       "      <td>-0.184991</td>\n",
       "      <td>0.816462</td>\n",
       "      <td>-0.654513</td>\n",
       "    </tr>\n",
       "    <tr>\n",
       "      <th>...</th>\n",
       "      <td>...</td>\n",
       "      <td>...</td>\n",
       "      <td>...</td>\n",
       "      <td>...</td>\n",
       "      <td>...</td>\n",
       "      <td>...</td>\n",
       "      <td>...</td>\n",
       "      <td>...</td>\n",
       "    </tr>\n",
       "    <tr>\n",
       "      <th>9968</th>\n",
       "      <td>-0.601495</td>\n",
       "      <td>-1.081162</td>\n",
       "      <td>0.495523</td>\n",
       "      <td>-1.057237</td>\n",
       "      <td>-1.475680</td>\n",
       "      <td>-0.184991</td>\n",
       "      <td>-1.224796</td>\n",
       "      <td>1.527854</td>\n",
       "    </tr>\n",
       "    <tr>\n",
       "      <th>9969</th>\n",
       "      <td>-0.551506</td>\n",
       "      <td>-1.081162</td>\n",
       "      <td>0.683618</td>\n",
       "      <td>-0.825098</td>\n",
       "      <td>-1.428545</td>\n",
       "      <td>-0.184991</td>\n",
       "      <td>-1.224796</td>\n",
       "      <td>-0.654513</td>\n",
       "    </tr>\n",
       "    <tr>\n",
       "      <th>9970</th>\n",
       "      <td>-0.501517</td>\n",
       "      <td>-0.946356</td>\n",
       "      <td>0.770948</td>\n",
       "      <td>-0.663610</td>\n",
       "      <td>-1.349985</td>\n",
       "      <td>-0.184991</td>\n",
       "      <td>-1.224796</td>\n",
       "      <td>1.527854</td>\n",
       "    </tr>\n",
       "    <tr>\n",
       "      <th>9971</th>\n",
       "      <td>-0.501517</td>\n",
       "      <td>-0.878954</td>\n",
       "      <td>-0.821146</td>\n",
       "      <td>0.860433</td>\n",
       "      <td>-1.302849</td>\n",
       "      <td>-0.184991</td>\n",
       "      <td>-1.224796</td>\n",
       "      <td>-0.654513</td>\n",
       "    </tr>\n",
       "    <tr>\n",
       "      <th>9972</th>\n",
       "      <td>-0.501517</td>\n",
       "      <td>-0.878954</td>\n",
       "      <td>-0.203118</td>\n",
       "      <td>0.022714</td>\n",
       "      <td>-1.224290</td>\n",
       "      <td>-0.184991</td>\n",
       "      <td>-1.224796</td>\n",
       "      <td>1.527854</td>\n",
       "    </tr>\n",
       "  </tbody>\n",
       "</table>\n",
       "<p>9973 rows × 8 columns</p>\n",
       "</div>"
      ],
      "text/plain": [
       "      Air temperature [K]  Process temperature [K]  Rotational speed [rpm]  \\\n",
       "0               -0.951417                -0.946356                0.139485   \n",
       "1               -0.901428                -0.878954               -0.821146   \n",
       "2               -0.951417                -1.013759               -0.216553   \n",
       "3               -0.901428                -0.946356               -0.653204   \n",
       "4               -0.901428                -0.878954               -0.821146   \n",
       "...                   ...                      ...                     ...   \n",
       "9968            -0.601495                -1.081162                0.495523   \n",
       "9969            -0.551506                -1.081162                0.683618   \n",
       "9970            -0.501517                -0.946356                0.770948   \n",
       "9971            -0.501517                -0.878954               -0.821146   \n",
       "9972            -0.501517                -0.878954               -0.203118   \n",
       "\n",
       "      Torque [Nm]  Tool wear [min]    Target    Type_L    Type_M  \n",
       "0        0.285132        -1.695647 -0.184991 -1.224796  1.527854  \n",
       "1        0.638387        -1.648511 -0.184991  0.816462 -0.654513  \n",
       "2        0.951270        -1.617087 -0.184991  0.816462 -0.654513  \n",
       "3       -0.047937        -1.585664 -0.184991  0.816462 -0.654513  \n",
       "4        0.002528        -1.554240 -0.184991  0.816462 -0.654513  \n",
       "...           ...              ...       ...       ...       ...  \n",
       "9968    -1.057237        -1.475680 -0.184991 -1.224796  1.527854  \n",
       "9969    -0.825098        -1.428545 -0.184991 -1.224796 -0.654513  \n",
       "9970    -0.663610        -1.349985 -0.184991 -1.224796  1.527854  \n",
       "9971     0.860433        -1.302849 -0.184991 -1.224796 -0.654513  \n",
       "9972     0.022714        -1.224290 -0.184991 -1.224796  1.527854  \n",
       "\n",
       "[9973 rows x 8 columns]"
      ]
     },
     "execution_count": 65,
     "metadata": {},
     "output_type": "execute_result"
    }
   ],
   "source": [
    "scaler = StandardScaler()\n",
    "X1_scaled = scaler.fit_transform(X1)\n",
    "columns = list(X1.columns)\n",
    "X1_scaled = pd.DataFrame(X1_scaled, columns=columns)\n",
    "X1_scaled"
   ]
  },
  {
   "cell_type": "code",
   "execution_count": 66,
   "metadata": {},
   "outputs": [],
   "source": [
    "X1_train, X1_test, y1_train, y1_test = train_test_split(X1_scaled, y1, test_size = 0.20, stratify = y1)"
   ]
  },
  {
   "cell_type": "code",
   "execution_count": 67,
   "metadata": {},
   "outputs": [],
   "source": [
    "sampler = RandomOverSampler()\n",
    "X1_sampled, y1_sampled = sampler.fit_resample(X1_train, y1_train)"
   ]
  },
  {
   "cell_type": "code",
   "execution_count": 68,
   "metadata": {},
   "outputs": [
    {
     "name": "stdout",
     "output_type": "stream",
     "text": [
      "38570\n",
      "38570\n"
     ]
    }
   ],
   "source": [
    "print(len(X1_sampled))\n",
    "print(len(y1_sampled))"
   ]
  },
  {
   "cell_type": "code",
   "execution_count": 69,
   "metadata": {},
   "outputs": [
    {
     "data": {
      "text/plain": [
       "Failure Type\n",
       "4               7714\n",
       "3               7714\n",
       "2               7714\n",
       "1               7714\n",
       "0               7714\n",
       "dtype: int64"
      ]
     },
     "execution_count": 69,
     "metadata": {},
     "output_type": "execute_result"
    }
   ],
   "source": [
    "y1_sampled.value_counts()"
   ]
  },
  {
   "cell_type": "code",
   "execution_count": 70,
   "metadata": {},
   "outputs": [],
   "source": [
    "logit_model = LogisticRegression()\n",
    "random_forest_model = RandomForestClassifier()\n",
    "gradient_boosting_model = GradientBoostingClassifier(n_estimators = 150)\n",
    "svm_model = SVC()"
   ]
  },
  {
   "cell_type": "code",
   "execution_count": 71,
   "metadata": {},
   "outputs": [
    {
     "name": "stdout",
     "output_type": "stream",
     "text": [
      "LogisticRegression()\n",
      "99.54887218045113\n",
      "94.90795955405756\n",
      "[[1929    0    0    0    0]\n",
      " [   0   21    0    1    0]\n",
      " [   0    1   13    2    3]\n",
      " [   0    0    0   16    0]\n",
      " [   0    1    0    1    7]]\n",
      "              precision    recall  f1-score   support\n",
      "\n",
      "           0       1.00      1.00      1.00      1929\n",
      "           1       0.91      0.95      0.93        22\n",
      "           2       1.00      0.68      0.81        19\n",
      "           3       0.80      1.00      0.89        16\n",
      "           4       0.70      0.78      0.74         9\n",
      "\n",
      "    accuracy                           1.00      1995\n",
      "   macro avg       0.88      0.88      0.87      1995\n",
      "weighted avg       1.00      1.00      1.00      1995\n",
      "\n",
      "*************************************************\n",
      "RandomForestClassifier()\n",
      "99.64912280701755\n",
      "100.0\n",
      "[[1929    0    0    0    0]\n",
      " [   0   22    0    0    0]\n",
      " [   0    0   16    3    0]\n",
      " [   0    3    1   12    0]\n",
      " [   0    0    0    0    9]]\n",
      "              precision    recall  f1-score   support\n",
      "\n",
      "           0       1.00      1.00      1.00      1929\n",
      "           1       0.88      1.00      0.94        22\n",
      "           2       0.94      0.84      0.89        19\n",
      "           3       0.80      0.75      0.77        16\n",
      "           4       1.00      1.00      1.00         9\n",
      "\n",
      "    accuracy                           1.00      1995\n",
      "   macro avg       0.92      0.92      0.92      1995\n",
      "weighted avg       1.00      1.00      1.00      1995\n",
      "\n",
      "*************************************************\n",
      "GradientBoostingClassifier(n_estimators=150)\n",
      "99.69924812030075\n",
      "100.0\n",
      "[[1929    0    0    0    0]\n",
      " [   0   22    0    0    0]\n",
      " [   0    0   16    3    0]\n",
      " [   0    3    0   13    0]\n",
      " [   0    0    0    0    9]]\n",
      "              precision    recall  f1-score   support\n",
      "\n",
      "           0       1.00      1.00      1.00      1929\n",
      "           1       0.88      1.00      0.94        22\n",
      "           2       1.00      0.84      0.91        19\n",
      "           3       0.81      0.81      0.81        16\n",
      "           4       1.00      1.00      1.00         9\n",
      "\n",
      "    accuracy                           1.00      1995\n",
      "   macro avg       0.94      0.93      0.93      1995\n",
      "weighted avg       1.00      1.00      1.00      1995\n",
      "\n",
      "*************************************************\n",
      "SVC()\n",
      "99.69924812030075\n",
      "98.83847549909255\n",
      "[[1929    0    0    0    0]\n",
      " [   0   22    0    0    0]\n",
      " [   0    0   13    3    3]\n",
      " [   0    0    0   16    0]\n",
      " [   0    0    0    0    9]]\n",
      "              precision    recall  f1-score   support\n",
      "\n",
      "           0       1.00      1.00      1.00      1929\n",
      "           1       1.00      1.00      1.00        22\n",
      "           2       1.00      0.68      0.81        19\n",
      "           3       0.84      1.00      0.91        16\n",
      "           4       0.75      1.00      0.86         9\n",
      "\n",
      "    accuracy                           1.00      1995\n",
      "   macro avg       0.92      0.94      0.92      1995\n",
      "weighted avg       1.00      1.00      1.00      1995\n",
      "\n",
      "*************************************************\n"
     ]
    }
   ],
   "source": [
    "models = [logit_model, random_forest_model, gradient_boosting_model, svm_model]\n",
    "for model in models:\n",
    "    model.fit(X1_sampled, y1_sampled)\n",
    "    y1_train_pred = model.predict(X1_sampled)\n",
    "    y1_test_pred = model.predict(X1_test)\n",
    "    accuracy_test = accuracy_score(y1_test, y1_test_pred)\n",
    "    accuracy_train = accuracy_score(y1_sampled, y1_train_pred)\n",
    "    report = classification_report(y1_test, y1_test_pred)\n",
    "    cm = confusion_matrix(y1_test, y1_test_pred)\n",
    "    print(model)\n",
    "    print(accuracy_test * 100)\n",
    "    print(accuracy_train * 100)\n",
    "    print(cm)\n",
    "    print(report)\n",
    "    print('*************************************************')"
   ]
  },
  {
   "cell_type": "code",
   "execution_count": 77,
   "metadata": {},
   "outputs": [
    {
     "data": {
      "text/html": [
       "<div>\n",
       "<style scoped>\n",
       "    .dataframe tbody tr th:only-of-type {\n",
       "        vertical-align: middle;\n",
       "    }\n",
       "\n",
       "    .dataframe tbody tr th {\n",
       "        vertical-align: top;\n",
       "    }\n",
       "\n",
       "    .dataframe thead th {\n",
       "        text-align: right;\n",
       "    }\n",
       "</style>\n",
       "<table border=\"1\" class=\"dataframe\">\n",
       "  <thead>\n",
       "    <tr style=\"text-align: right;\">\n",
       "      <th></th>\n",
       "      <th>Feature_name</th>\n",
       "      <th>Importance</th>\n",
       "    </tr>\n",
       "  </thead>\n",
       "  <tbody>\n",
       "    <tr>\n",
       "      <th>0</th>\n",
       "      <td>Torque [Nm]</td>\n",
       "      <td>1.284087</td>\n",
       "    </tr>\n",
       "    <tr>\n",
       "      <th>1</th>\n",
       "      <td>Rotational speed [rpm]</td>\n",
       "      <td>1.157126</td>\n",
       "    </tr>\n",
       "    <tr>\n",
       "      <th>2</th>\n",
       "      <td>Tool wear [min]</td>\n",
       "      <td>1.005318</td>\n",
       "    </tr>\n",
       "    <tr>\n",
       "      <th>3</th>\n",
       "      <td>Air temperature [K]</td>\n",
       "      <td>0.610397</td>\n",
       "    </tr>\n",
       "    <tr>\n",
       "      <th>4</th>\n",
       "      <td>Target</td>\n",
       "      <td>0.507862</td>\n",
       "    </tr>\n",
       "    <tr>\n",
       "      <th>5</th>\n",
       "      <td>Process temperature [K]</td>\n",
       "      <td>0.438957</td>\n",
       "    </tr>\n",
       "    <tr>\n",
       "      <th>6</th>\n",
       "      <td>Type_L</td>\n",
       "      <td>0.055139</td>\n",
       "    </tr>\n",
       "    <tr>\n",
       "      <th>7</th>\n",
       "      <td>Type_M</td>\n",
       "      <td>0.033236</td>\n",
       "    </tr>\n",
       "  </tbody>\n",
       "</table>\n",
       "</div>"
      ],
      "text/plain": [
       "              Feature_name  Importance\n",
       "0              Torque [Nm]    1.284087\n",
       "1   Rotational speed [rpm]    1.157126\n",
       "2          Tool wear [min]    1.005318\n",
       "3      Air temperature [K]    0.610397\n",
       "4                   Target    0.507862\n",
       "5  Process temperature [K]    0.438957\n",
       "6                   Type_L    0.055139\n",
       "7                   Type_M    0.033236"
      ]
     },
     "execution_count": 77,
     "metadata": {},
     "output_type": "execute_result"
    }
   ],
   "source": [
    "from sklearn.feature_selection import SelectKBest, chi2, mutual_info_classif\n",
    "best_features=SelectKBest(score_func = mutual_info_classif, k = len(X1_sampled.columns))\n",
    "best_features.fit(X1_sampled, y1_sampled)\n",
    "best_features.scores_\n",
    "dfscores=pd.DataFrame(best_features.scores_)\n",
    "dfcolumns=pd.DataFrame(X1_sampled.columns)\n",
    "featurescores=pd.concat([dfcolumns,dfscores],axis=1)\n",
    "featurescores.columns=[\"Feature_name\",\"Importance\"]\n",
    "featurescores.sort_values(by = 'Importance', ascending = False, ignore_index = True)"
   ]
  },
  {
   "cell_type": "code",
   "execution_count": 81,
   "metadata": {},
   "outputs": [
    {
     "data": {
      "text/plain": [
       "<BarContainer object of 8 artists>"
      ]
     },
     "execution_count": 81,
     "metadata": {},
     "output_type": "execute_result"
    },
    {
     "data": {
      "image/png": "[encoded data removed]",
      "text/plain": [
       "<Figure size 432x288 with 1 Axes>"
      ]
     },
     "metadata": {},
     "output_type": "display_data"
    }
   ],
   "source": [
    "plt.barh(featurescores['Feature_name'], featurescores['Importance'])"
   ]
  },
  {
   "cell_type": "code",
   "execution_count": 83,
   "metadata": {},
   "outputs": [
    {
     "data": {
      "text/plain": [
       "'\\nf_classif: ANOVA F-value between label/feature for classification tasks. \\nmutual_info_classif: Mutual information for a discrete target. \\nchi2: Chi-squared stats of non-negative features for classification tasks.\\nf_regression: F-value between label/feature for regression tasks. \\nmutual_info_regression: Mutual information for a continuous target.\\n\\n'"
      ]
     },
     "execution_count": 83,
     "metadata": {},
     "output_type": "execute_result"
    }
   ],
   "source": [
    "\"\"\"\n",
    "f_classif: ANOVA F-value between label/feature for classification tasks. \n",
    "mutual_info_classif: Mutual information for a discrete target. \n",
    "chi2: Chi-squared stats of non-negative features for classification tasks.\n",
    "f_regression: F-value between label/feature for regression tasks. \n",
    "mutual_info_regression: Mutual information for a continuous target.\n",
    "\n",
    "\"\"\""
   ]
  },
  {
   "cell_type": "code",
   "execution_count": null,
   "metadata": {},
   "outputs": [],
   "source": [
    "\n"
   ]
  },
  {
   "cell_type": "code",
   "execution_count": null,
   "metadata": {},
   "outputs": [],
   "source": []
  },
  {
   "cell_type": "code",
   "execution_count": null,
   "metadata": {},
   "outputs": [],
   "source": []
  },
  {
   "cell_type": "code",
   "execution_count": null,
   "metadata": {},
   "outputs": [],
   "source": []
  },
  {
   "cell_type": "code",
   "execution_count": null,
   "metadata": {},
   "outputs": [],
   "source": []
  },
  {
   "cell_type": "code",
   "execution_count": null,
   "metadata": {},
   "outputs": [],
   "source": []
  }
 ],
 "metadata": {
  "kernelspec": {
   "display_name": "Python 3",
   "language": "python",
   "name": "python3"
  },
  "language_info": {
   "codemirror_mode": {
    "name": "ipython",
    "version": 3
   },
   "file_extension": ".py",
   "mimetype": "text/x-python",
   "name": "python",
   "nbconvert_exporter": "python",
   "pygments_lexer": "ipython3",
   "version": "3.8.5"
  }
 },
 "nbformat": 4,
 "nbformat_minor": 4
}
